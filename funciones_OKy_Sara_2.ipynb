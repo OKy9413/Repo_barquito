{
 "cells": [
  {
   "cell_type": "code",
   "execution_count": 1,
   "metadata": {},
   "outputs": [],
   "source": [
    "import numpy as np\n",
    "import time\n",
    "import random"
   ]
  },
  {
   "cell_type": "code",
   "execution_count": 2,
   "metadata": {},
   "outputs": [],
   "source": [
    "c_barco = 'O'\n",
    "c_tocado = 'X'\n",
    "c_agua = ' '\n",
    "c_agua_tiro = '/'\n",
    "c_niebla = '~'\n",
    "turnos = 0\n",
    "hay_ganadore = 0\n",
    "break_point = 0\n",
    "id_jugador = 'Sara'\n",
    "filas = 10\n",
    "columnas = 10"
   ]
  },
  {
   "cell_type": "code",
   "execution_count": 3,
   "metadata": {},
   "outputs": [],
   "source": [
    "tablero_niebla = np.full((10, 10), c_niebla)\n",
    "tablero_maquina = np.full((10, 10), c_agua)\n",
    "tablero_maquina[1, 3:5] = c_barco\n",
    "tablero_jugador = np.full((10, 10), c_agua)\n",
    "tablero_jugador[1, 3:7] = c_barco\n",
    "barcos_jugador = {1: 4, 2: 3, 3: 2, 4: 1}  #Numeros de barcos y su tamaño(tam_barco)\n",
    "barcos_maquina = {1: 4, 2: 3, 3: 2, 4: 1}\n"
   ]
  },
  {
   "cell_type": "code",
   "execution_count": 4,
   "metadata": {},
   "outputs": [],
   "source": [
    "def contador_turnos():\n",
    "    global turnos                # Para modificar variables globales dentro una función podemos usar esta formulación\n",
    "    turnos += 1"
   ]
  },
  {
   "cell_type": "code",
   "execution_count": 5,
   "metadata": {},
   "outputs": [],
   "source": [
    "def suspense(periodo = 0.7):\n",
    "    for _ in range(5):\n",
    "        time.sleep(periodo)\n",
    "        print('.', end=' ')\n",
    "    time.sleep(1)"
   ]
  },
  {
   "cell_type": "code",
   "execution_count": 6,
   "metadata": {},
   "outputs": [],
   "source": [
    "def disparo_jugador():\n",
    "    ej = True\n",
    "    contador = 0\n",
    "    global break_point\n",
    "    while ej:\n",
    "        time.sleep(3)\n",
    "        if contador != 0:                           # El primer if comprueba si ya ha tirado en este turno o no, y muestra mensajes y tableros en función de eso.\n",
    "            print('¡Te toca de nuevo! \\n')\n",
    "            mostrar_tableros()\n",
    "        else:\n",
    "            print('¡Es tu turno!')\n",
    "        time.sleep(1.5)\n",
    "        disparo_jugador_x = input('Introduce la coordenada X de tu disparo: [0,9]')     # Pedimos el input de la primera coordenada\n",
    "        if disparo_jugador_x == 'exit':                                                 # Aquí hay una puerta trasera, para poder salir del juego escribimos \"exit\"\n",
    "            break_point += 1\n",
    "            break\n",
    "        disparo_jugador_x = int(disparo_jugador_x)\n",
    "        disparo_jugador_y = int(input('Introduce la coordenada Y de tu disparo: [0,9]'))    # Pedimos la segunda coordenada\n",
    "        time.sleep(1)\n",
    "        print(f\"Disparo efectuado a las coordenadas ({disparo_jugador_x}, {disparo_jugador_y}).\\n\")\n",
    "        suspense()\n",
    "        if tablero_maquina[disparo_jugador_x, disparo_jugador_y] == c_barco:                # En este conjunto de if comprobamos qué hay en las coordnadas, actualizamos los tableros y damos la infor por pantalla.\n",
    "            print('¡Impacto!¡Barco alcanzado!\\n')\n",
    "            tablero_niebla[disparo_jugador_x, disparo_jugador_y] = c_tocado\n",
    "            tablero_maquina[disparo_jugador_x, disparo_jugador_y] = c_tocado\n",
    "            if condicion_victoria() == True:                                                # Comprobamos si con este tiro ha ganado.\n",
    "                break\n",
    "            contador += 1\n",
    "        elif tablero_maquina[disparo_jugador_x, disparo_jugador_y] == c_agua:\n",
    "            print('Agua...\\n')\n",
    "            tablero_niebla[disparo_jugador_x, disparo_jugador_y] = c_agua_tiro\n",
    "            ej = False\n",
    "        elif tablero_maquina[disparo_jugador_x, disparo_jugador_y] == c_tocado:\n",
    "            print('Ya habías disparado ahí.\\n')\n",
    "            ej = False\n",
    "        elif tablero_maquina[disparo_jugador_x, disparo_jugador_y] == c_agua_tiro:\n",
    "            print('Agua, y ya habías disparado ahí.\\n')\n",
    "            ej = False"
   ]
  },
  {
   "cell_type": "code",
   "execution_count": 7,
   "metadata": {},
   "outputs": [],
   "source": [
    "def disparo_maquina():\n",
    "    ej = True\n",
    "    contador = 0\n",
    "    while ej:\n",
    "        time.sleep(3)\n",
    "        if contador != 0:\n",
    "            print('¡Le toca a la maquína de nuevo! \\n')\n",
    "        else:\n",
    "            print('¡Es el turno de la máquina!')\n",
    "        disparo_maquina_x = np.random.randint(0,10)\n",
    "        disparo_maquina_y = np.random.randint(0,10)\n",
    "        time.sleep(2)\n",
    "        print(f\"La máquina dispara a las coordenadas ({disparo_maquina_x}, {disparo_maquina_y}).\\n\")\n",
    "        suspense(0.5)\n",
    "        if tablero_jugador[disparo_maquina_x, disparo_maquina_y] == c_barco:\n",
    "            print('¡Impacto!¡Barco alcanzado!\\n')\n",
    "            tablero_jugador[disparo_maquina_x, disparo_maquina_y] = c_tocado\n",
    "            if condicion_victoria() == True:\n",
    "                break\n",
    "            contador += 1\n",
    "        elif tablero_jugador[disparo_maquina_x, disparo_maquina_y] == c_agua:\n",
    "            print('Agua...\\n')\n",
    "            tablero_jugador[disparo_maquina_x, disparo_maquina_y] = c_agua_tiro\n",
    "            ej = False\n",
    "        elif tablero_jugador[disparo_maquina_x, disparo_maquina_y] == c_tocado:\n",
    "            print('Ya habías disparado ahí.\\n')\n",
    "            ej = False\n",
    "        elif tablero_jugador[disparo_maquina_x, disparo_maquina_y] == c_agua_tiro:\n",
    "            print('Agua, y ya habías disparado ahí.\\n')\n",
    "            ej = False"
   ]
  },
  {
   "cell_type": "code",
   "execution_count": 8,
   "metadata": {},
   "outputs": [],
   "source": [
    "def mostrar_tableros():\n",
    "    global turnos\n",
    "    if turnos == 0:                                                     # Si es el primer turno muestra mensajes especiales\n",
    "        print('¡Este es el campo de batalla!', end= '\\n\\n')\n",
    "        time.sleep(1)\n",
    "        print(f'Tu tablero:\\n{tablero_jugador}\\nTablero de la máquina:\\n{tablero_niebla} \\n')\n",
    "        time.sleep(3)\n",
    "        print('Ahora, ¡A los cañones!', end= '\\n\\n')\n",
    "    else:\n",
    "        time.sleep(3)\n",
    "        print(f'Tu tablero:\\n{tablero_jugador}\\nTablero de la máquina:\\n{tablero_niebla} \\n')\n",
    "    "
   ]
  },
  {
   "cell_type": "code",
   "execution_count": 9,
   "metadata": {},
   "outputs": [
    {
     "ename": "IndexError",
     "evalue": "index 10 is out of bounds for axis 0 with size 10",
     "output_type": "error",
     "traceback": [
      "\u001b[1;31m---------------------------------------------------------------------------\u001b[0m",
      "\u001b[1;31mIndexError\u001b[0m                                Traceback (most recent call last)",
      "\u001b[1;32mc:\\Users\\Usuario\\Downloads\\funciones_OKy_Sara_2.ipynb Cell 9\u001b[0m line \u001b[0;36m5\n\u001b[0;32m     <a href='vscode-notebook-cell:/c%3A/Users/Usuario/Downloads/funciones_OKy_Sara_2.ipynb#X11sZmlsZQ%3D%3D?line=50'>51</a>\u001b[0m         \u001b[39mbreak\u001b[39;00m\n\u001b[0;32m     <a href='vscode-notebook-cell:/c%3A/Users/Usuario/Downloads/funciones_OKy_Sara_2.ipynb#X11sZmlsZQ%3D%3D?line=52'>53</a>\u001b[0m \u001b[39m#Montamos los barcos en el tablero\u001b[39;00m\n\u001b[1;32m---> <a href='vscode-notebook-cell:/c%3A/Users/Usuario/Downloads/funciones_OKy_Sara_2.ipynb#X11sZmlsZQ%3D%3D?line=53'>54</a>\u001b[0m colocar_barco()\n\u001b[0;32m     <a href='vscode-notebook-cell:/c%3A/Users/Usuario/Downloads/funciones_OKy_Sara_2.ipynb#X11sZmlsZQ%3D%3D?line=54'>55</a>\u001b[0m colocar_barco_maquina()\n\u001b[0;32m     <a href='vscode-notebook-cell:/c%3A/Users/Usuario/Downloads/funciones_OKy_Sara_2.ipynb#X11sZmlsZQ%3D%3D?line=56'>57</a>\u001b[0m \u001b[39mprint\u001b[39m(tablero_jugador)\n",
      "\u001b[1;32mc:\\Users\\Usuario\\Downloads\\funciones_OKy_Sara_2.ipynb Cell 9\u001b[0m line \u001b[0;36m8\n\u001b[0;32m      <a href='vscode-notebook-cell:/c%3A/Users/Usuario/Downloads/funciones_OKy_Sara_2.ipynb#X11sZmlsZQ%3D%3D?line=5'>6</a>\u001b[0m \u001b[39mfor\u001b[39;00m tam_barco, cantidad \u001b[39min\u001b[39;00m barcos_jugador\u001b[39m.\u001b[39mitems():\n\u001b[0;32m      <a href='vscode-notebook-cell:/c%3A/Users/Usuario/Downloads/funciones_OKy_Sara_2.ipynb#X11sZmlsZQ%3D%3D?line=6'>7</a>\u001b[0m     \u001b[39mfor\u001b[39;00m i \u001b[39min\u001b[39;00m \u001b[39mrange\u001b[39m(cantidad):\n\u001b[1;32m----> <a href='vscode-notebook-cell:/c%3A/Users/Usuario/Downloads/funciones_OKy_Sara_2.ipynb#X11sZmlsZQ%3D%3D?line=7'>8</a>\u001b[0m         colocar_barco_aleatorio(tablero_jugador, tam_barco)\n",
      "\u001b[1;32mc:\\Users\\Usuario\\Downloads\\funciones_OKy_Sara_2.ipynb Cell 9\u001b[0m line \u001b[0;36m5\n\u001b[0;32m     <a href='vscode-notebook-cell:/c%3A/Users/Usuario/Downloads/funciones_OKy_Sara_2.ipynb#X11sZmlsZQ%3D%3D?line=46'>47</a>\u001b[0m         y \u001b[39m-\u001b[39m\u001b[39m=\u001b[39m \u001b[39m1\u001b[39m\n\u001b[0;32m     <a href='vscode-notebook-cell:/c%3A/Users/Usuario/Downloads/funciones_OKy_Sara_2.ipynb#X11sZmlsZQ%3D%3D?line=48'>49</a>\u001b[0m \u001b[39mif\u001b[39;00m \u001b[39mlen\u001b[39m(coordenadas) \u001b[39m==\u001b[39m longitud:\n\u001b[1;32m---> <a href='vscode-notebook-cell:/c%3A/Users/Usuario/Downloads/funciones_OKy_Sara_2.ipynb#X11sZmlsZQ%3D%3D?line=49'>50</a>\u001b[0m     posicionar_barco(tablero, coordenadas)\n\u001b[0;32m     <a href='vscode-notebook-cell:/c%3A/Users/Usuario/Downloads/funciones_OKy_Sara_2.ipynb#X11sZmlsZQ%3D%3D?line=50'>51</a>\u001b[0m \u001b[39mbreak\u001b[39;00m\n",
      "\u001b[1;32mc:\\Users\\Usuario\\Downloads\\funciones_OKy_Sara_2.ipynb Cell 9\u001b[0m line \u001b[0;36m3\n\u001b[0;32m      <a href='vscode-notebook-cell:/c%3A/Users/Usuario/Downloads/funciones_OKy_Sara_2.ipynb#X11sZmlsZQ%3D%3D?line=0'>1</a>\u001b[0m \u001b[39mdef\u001b[39;00m \u001b[39mposicionar_barco\u001b[39m(tablero, coordenadas):\n\u001b[0;32m      <a href='vscode-notebook-cell:/c%3A/Users/Usuario/Downloads/funciones_OKy_Sara_2.ipynb#X11sZmlsZQ%3D%3D?line=1'>2</a>\u001b[0m     \u001b[39mfor\u001b[39;00m x, y \u001b[39min\u001b[39;00m coordenadas: \u001b[39m#for coordenada in coordenadas:\u001b[39;00m\n\u001b[1;32m----> <a href='vscode-notebook-cell:/c%3A/Users/Usuario/Downloads/funciones_OKy_Sara_2.ipynb#X11sZmlsZQ%3D%3D?line=2'>3</a>\u001b[0m         tablero[x][y] \u001b[39m=\u001b[39m \u001b[39m'\u001b[39m\u001b[39mO\u001b[39m\u001b[39m'\u001b[39m\n",
      "\u001b[1;31mIndexError\u001b[0m: index 10 is out of bounds for axis 0 with size 10"
     ]
    }
   ],
   "source": [
    "\n",
    "\n",
    "def posicionar_barco(tablero, coordenadas):\n",
    "    for x, y in coordenadas: #for coordenada in coordenadas:\n",
    "        tablero[x][y] = 'O'\n",
    "\n",
    "def colocar_barco():\n",
    "    for tam_barco, cantidad in barcos_jugador.items():\n",
    "        for i in range(cantidad):\n",
    "            colocar_barco_aleatorio(tablero_jugador, tam_barco)\n",
    "\n",
    "def colocar_barco_maquina():\n",
    "    for tam_barco, cantidad in barcos_maquina.items():\n",
    "        for i in range(cantidad):\n",
    "            colocar_barco_aleatorio(tablero_maquina, tam_barco)\n",
    "\n",
    "def colocar_barco_aleatorio(tablero, longitud):\n",
    "    orientaciones = [\"N\", \"S\", \"E\", \"O\"]\n",
    "\n",
    "\n",
    "    x = random.randint(0, filas - 1)\n",
    "    y = random.randint(0, columnas - 1)\n",
    "    orientacion = random.choice(orientaciones)\n",
    "    coordenadas = []\n",
    "\n",
    "    for _ in range(longitud):\n",
    "        comprobar = True\n",
    "        while comprobar:\n",
    "            if (\n",
    "                x < 0\n",
    "                or x >= filas\n",
    "                or y < 0\n",
    "                or y >= columnas\n",
    "                or tablero[x][y] == 'O'\n",
    "                or any(tablero[i][j] == 'O' for i in range(max(0, x - 1), min(filas, x + 2))\n",
    "                                              for j in range(max(0, y - 1), min(columnas, y + 2)))\n",
    "            ):\n",
    "                comprobar = False \n",
    "\n",
    "            coordenadas.append((x, y))\n",
    "\n",
    "            if orientacion == 'N':\n",
    "                x -= 1\n",
    "            elif orientacion == 'S':\n",
    "                x += 1\n",
    "            elif orientacion == 'E':\n",
    "                y += 1\n",
    "            else:\n",
    "                y -= 1\n",
    "\n",
    "        if len(coordenadas) == longitud:\n",
    "            posicionar_barco(tablero, coordenadas)\n",
    "        break\n",
    "\n",
    "#Montamos los barcos en el tablero\n",
    "colocar_barco()\n",
    "colocar_barco_maquina()\n",
    "\n",
    "print(tablero_jugador)\n",
    "print(tablero_maquina)"
   ]
  },
  {
   "cell_type": "code",
   "execution_count": null,
   "metadata": {},
   "outputs": [],
   "source": [
    "def condicion_victoria():\n",
    "    global hay_ganadore\n",
    "    ganador = False\n",
    "    if (c_barco in tablero_jugador) == False:                           # Comprobamos si hay algún barco en pie y sino declaramos ganador.\n",
    "        suspense()\n",
    "        print(f'Lo siento {id_jugador}, gana la máquina.')\n",
    "        hay_ganadore +=1\n",
    "        ganador = True\n",
    "    elif (c_barco in tablero_maquina) == False:\n",
    "        suspense()\n",
    "        print(f'¡Enhorabuena, {id_jugador}! ¡Has ganado! \\n Has tardado {turnos} turnos.')\n",
    "        hay_ganadore +=1\n",
    "        ganador = True\n",
    "    return ganador"
   ]
  },
  {
   "cell_type": "code",
   "execution_count": null,
   "metadata": {},
   "outputs": [
    {
     "ename": "NameError",
     "evalue": "name 'turnos' is not defined",
     "output_type": "error",
     "traceback": [
      "\u001b[1;31m---------------------------------------------------------------------------\u001b[0m",
      "\u001b[1;31mNameError\u001b[0m                                 Traceback (most recent call last)",
      "\u001b[1;32mc:\\Users\\Usuario\\Downloads\\funciones_OKy_Sara_2.ipynb Cell 11\u001b[0m line \u001b[0;36m2\n\u001b[0;32m      <a href='vscode-notebook-cell:/c%3A/Users/Usuario/Downloads/funciones_OKy_Sara_2.ipynb#X13sZmlsZQ%3D%3D?line=0'>1</a>\u001b[0m \u001b[39mwhile\u001b[39;00m \u001b[39mTrue\u001b[39;00m:\n\u001b[1;32m----> <a href='vscode-notebook-cell:/c%3A/Users/Usuario/Downloads/funciones_OKy_Sara_2.ipynb#X13sZmlsZQ%3D%3D?line=1'>2</a>\u001b[0m     mostrar_tableros()\n\u001b[0;32m      <a href='vscode-notebook-cell:/c%3A/Users/Usuario/Downloads/funciones_OKy_Sara_2.ipynb#X13sZmlsZQ%3D%3D?line=2'>3</a>\u001b[0m     contador_turnos()\n\u001b[0;32m      <a href='vscode-notebook-cell:/c%3A/Users/Usuario/Downloads/funciones_OKy_Sara_2.ipynb#X13sZmlsZQ%3D%3D?line=3'>4</a>\u001b[0m     disparo_jugador()\n",
      "\u001b[1;32mc:\\Users\\Usuario\\Downloads\\funciones_OKy_Sara_2.ipynb Cell 11\u001b[0m line \u001b[0;36m3\n\u001b[0;32m      <a href='vscode-notebook-cell:/c%3A/Users/Usuario/Downloads/funciones_OKy_Sara_2.ipynb#X13sZmlsZQ%3D%3D?line=0'>1</a>\u001b[0m \u001b[39mdef\u001b[39;00m \u001b[39mmostrar_tableros\u001b[39m():\n\u001b[0;32m      <a href='vscode-notebook-cell:/c%3A/Users/Usuario/Downloads/funciones_OKy_Sara_2.ipynb#X13sZmlsZQ%3D%3D?line=1'>2</a>\u001b[0m     \u001b[39mglobal\u001b[39;00m turnos\n\u001b[1;32m----> <a href='vscode-notebook-cell:/c%3A/Users/Usuario/Downloads/funciones_OKy_Sara_2.ipynb#X13sZmlsZQ%3D%3D?line=2'>3</a>\u001b[0m     \u001b[39mif\u001b[39;00m turnos \u001b[39m==\u001b[39m \u001b[39m0\u001b[39m:                                                     \u001b[39m# Si es el primer turno muestra mensajes especiales\u001b[39;00m\n\u001b[0;32m      <a href='vscode-notebook-cell:/c%3A/Users/Usuario/Downloads/funciones_OKy_Sara_2.ipynb#X13sZmlsZQ%3D%3D?line=3'>4</a>\u001b[0m         \u001b[39mprint\u001b[39m(\u001b[39m'\u001b[39m\u001b[39m¡Este es el campo de batalla!\u001b[39m\u001b[39m'\u001b[39m, end\u001b[39m=\u001b[39m \u001b[39m'\u001b[39m\u001b[39m\\n\u001b[39;00m\u001b[39m\\n\u001b[39;00m\u001b[39m'\u001b[39m)\n\u001b[0;32m      <a href='vscode-notebook-cell:/c%3A/Users/Usuario/Downloads/funciones_OKy_Sara_2.ipynb#X13sZmlsZQ%3D%3D?line=4'>5</a>\u001b[0m         time\u001b[39m.\u001b[39msleep(\u001b[39m1\u001b[39m)\n",
      "\u001b[1;31mNameError\u001b[0m: name 'turnos' is not defined"
     ]
    }
   ],
   "source": [
    "while True:\n",
    "    mostrar_tableros()\n",
    "    contador_turnos()\n",
    "    disparo_jugador()\n",
    "    if break_point != 0:\n",
    "        print(f'¡Te veo a la próxima, {id_jugador}!')\n",
    "        break\n",
    "    if hay_ganadore != 0:\n",
    "        mostrar_tableros()\n",
    "        break\n",
    "    mostrar_tableros()\n",
    "    disparo_maquina()\n",
    "    if hay_ganadore != 0:\n",
    "        mostrar_tableros()\n",
    "        break\n"
   ]
  },
  {
   "cell_type": "code",
   "execution_count": null,
   "metadata": {},
   "outputs": [],
   "source": []
  }
 ],
 "metadata": {
  "kernelspec": {
   "display_name": "Python 3",
   "language": "python",
   "name": "python3"
  },
  "language_info": {
   "codemirror_mode": {
    "name": "ipython",
    "version": 3
   },
   "file_extension": ".py",
   "mimetype": "text/x-python",
   "name": "python",
   "nbconvert_exporter": "python",
   "pygments_lexer": "ipython3",
   "version": "3.12.0"
  }
 },
 "nbformat": 4,
 "nbformat_minor": 2
}
