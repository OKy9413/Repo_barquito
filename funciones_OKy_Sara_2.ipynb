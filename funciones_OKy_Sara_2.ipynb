{
 "cells": [
  {
   "cell_type": "code",
   "execution_count": 9,
   "metadata": {},
   "outputs": [],
   "source": [
    "import numpy as np\n",
    "import time\n",
    "import random"
   ]
  },
  {
   "cell_type": "code",
   "execution_count": 10,
   "metadata": {},
   "outputs": [],
   "source": [
    "c_barco = 'O'\n",
    "c_tocado = 'X'\n",
    "c_agua = ' '\n",
    "c_agua_tiro = '/'\n",
    "c_niebla = '~'\n",
    "turnos = 0\n",
    "hay_ganadore = 0\n",
    "break_point = 0\n",
    "id_jugador = 'Sara'"
   ]
  },
  {
   "cell_type": "code",
   "execution_count": 11,
   "metadata": {},
   "outputs": [],
   "source": [
    "tablero_niebla = np.full((10, 10), c_niebla)\n",
    "tablero_maquina = np.full((10, 10), c_agua)\n",
    "tablero_maquina[1, 3:5] = c_barco\n",
    "tablero_jugador = np.full((10, 10), c_agua)\n",
    "tablero_jugador[1, 3:7] = c_barco\n",
    "barcos_jugador = {1: 4, 2: 3, 3: 2, 4: 1}  #Numeros de barcos y su tamaño(tam_barco)\n",
    "barcos_maquina = {1: 4, 2: 3, 3: 2, 4: 1}"
   ]
  },
  {
   "cell_type": "code",
   "execution_count": 12,
   "metadata": {},
   "outputs": [],
   "source": [
    "def contador_turnos():\n",
    "    global turnos                # Para modificar variables globales dentro una función podemos usar esta formulación\n",
    "    turnos += 1"
   ]
  },
  {
   "cell_type": "code",
   "execution_count": 13,
   "metadata": {},
   "outputs": [],
   "source": [
    "def suspense(periodo = 0.7):\n",
    "    for _ in range(5):\n",
    "        time.sleep(periodo)\n",
    "        print('.', end=' ')\n",
    "    time.sleep(1)"
   ]
  },
  {
   "cell_type": "code",
   "execution_count": 14,
   "metadata": {},
   "outputs": [],
   "source": [
    "def disparo_jugador():\n",
    "    ej = True\n",
    "    contador = 0\n",
    "    global break_point\n",
    "    while ej:\n",
    "        time.sleep(3)\n",
    "        if contador != 0:                           # El primer if comprueba si ya ha tirado en este turno o no, y muestra mensajes y tableros en función de eso.\n",
    "            print('¡Te toca de nuevo! \\n')\n",
    "            mostrar_tableros()\n",
    "        else:\n",
    "            print('¡Es tu turno!')\n",
    "        time.sleep(1.5)\n",
    "        disparo_jugador_x = input('Introduce la coordenada X de tu disparo: [0,9]')     # Pedimos el input de la primera coordenada\n",
    "        if disparo_jugador_x == 'exit':                                                 # Aquí hay una puerta trasera, para poder salir del juego escribimos \"exit\"\n",
    "            break_point += 1\n",
    "            break\n",
    "        disparo_jugador_x = int(disparo_jugador_x)\n",
    "        disparo_jugador_y = int(input('Introduce la coordenada Y de tu disparo: [0,9]'))    # Pedimos la segunda coordenada\n",
    "        time.sleep(1)\n",
    "        print(f\"Disparo efectuado a las coordenadas ({disparo_jugador_x}, {disparo_jugador_y}).\\n\")\n",
    "        suspense()\n",
    "        if tablero_maquina[disparo_jugador_x, disparo_jugador_y] == c_barco:                # En este conjunto de if comprobamos qué hay en las coordnadas, actualizamos los tableros y damos la infor por pantalla.\n",
    "            print('¡Impacto!¡Barco alcanzado!\\n')\n",
    "            tablero_niebla[disparo_jugador_x, disparo_jugador_y] = c_tocado\n",
    "            tablero_maquina[disparo_jugador_x, disparo_jugador_y] = c_tocado\n",
    "            if condicion_victoria() == True:                                                # Comprobamos si con este tiro ha ganado.\n",
    "                break\n",
    "            contador += 1\n",
    "        elif tablero_maquina[disparo_jugador_x, disparo_jugador_y] == c_agua:\n",
    "            print('Agua...\\n')\n",
    "            tablero_niebla[disparo_jugador_x, disparo_jugador_y] = c_agua_tiro\n",
    "            ej = False\n",
    "        elif tablero_maquina[disparo_jugador_x, disparo_jugador_y] == c_tocado:\n",
    "            print('Ya habías disparado ahí.\\n')\n",
    "            ej = False\n",
    "        elif tablero_maquina[disparo_jugador_x, disparo_jugador_y] == c_agua_tiro:\n",
    "            print('Agua, y ya habías disparado ahí.\\n')\n",
    "            ej = False"
   ]
  },
  {
   "cell_type": "code",
   "execution_count": 204,
   "metadata": {},
   "outputs": [],
   "source": [
    "def disparo_maquina():\n",
    "    ej = True\n",
    "    contador = 0\n",
    "    while ej:\n",
    "        time.sleep(3)\n",
    "        if contador != 0:\n",
    "            print('¡Le toca a la maquína de nuevo! \\n')\n",
    "        else:\n",
    "            print('¡Es el turno de la máquina!')\n",
    "        disparo_maquina_x = np.random.randint(0,10)\n",
    "        disparo_maquina_y = np.random.randint(0,10)\n",
    "        time.sleep(2)\n",
    "        print(f\"La máquina dispara a las coordenadas ({disparo_maquina_x}, {disparo_maquina_y}).\\n\")\n",
    "        suspense(0.5)\n",
    "        if tablero_jugador[disparo_maquina_x, disparo_maquina_y] == c_barco:\n",
    "            print('¡Impacto!¡Barco alcanzado!\\n')\n",
    "            tablero_jugador[disparo_maquina_x, disparo_maquina_y] = c_tocado\n",
    "            if condicion_victoria() == True:\n",
    "                break\n",
    "            contador += 1\n",
    "        elif tablero_jugador[disparo_maquina_x, disparo_maquina_y] == c_agua:\n",
    "            print('Agua...\\n')\n",
    "            tablero_jugador[disparo_maquina_x, disparo_maquina_y] = c_agua_tiro\n",
    "            ej = False\n",
    "        elif tablero_jugador[disparo_maquina_x, disparo_maquina_y] == c_tocado:\n",
    "            print('Ya habías disparado ahí.\\n')\n",
    "            ej = False\n",
    "        elif tablero_jugador[disparo_maquina_x, disparo_maquina_y] == c_agua_tiro:\n",
    "            print('Agua, y ya habías disparado ahí.\\n')\n",
    "            ej = False"
   ]
  },
  {
   "cell_type": "code",
   "execution_count": 15,
   "metadata": {},
   "outputs": [],
   "source": [
    "def mostrar_tableros():\n",
    "    global turnos\n",
    "    if turnos == 0:                                                     # Si es el primer turno muestra mensajes especiales\n",
    "        print('¡Este es el campo de batalla!', end= '\\n\\n')\n",
    "        time.sleep(1)\n",
    "        print(f'Tu tablero:\\n{tablero_jugador}\\nTablero de la máquina:\\n{tablero_niebla} \\n')\n",
    "        time.sleep(3)\n",
    "        print('Ahora, ¡A los cañones!', end= '\\n\\n')\n",
    "    else:\n",
    "        time.sleep(3)\n",
    "        print(f'Tu tablero:\\n{tablero_jugador}\\nTablero de la máquina:\\n{tablero_niebla} \\n')\n",
    "    "
   ]
  },
  {
   "cell_type": "code",
   "execution_count": 17,
   "metadata": {},
   "outputs": [],
   "source": [
    "def colocar_barco_aleatorio(tablero,tam_barco):\n",
    "    y = tablero.shape[0] -1\n",
    "    x = tablero.shape[1] -1\n",
    "    colocado = False\n",
    "    while not colocado:\n",
    "        ors = [\"N\",\"S\",\"E\",\"O\"]\n",
    "        indice_random_orientacion = random.randint(0,3)\n",
    "        orientacion = ors[indice_random_orientacion]\n",
    "        origen = (random.randint(0,x), random.randint(0,y))\n",
    "        if tablero[origen] == \"x\" or tablero[origen] == \"O\":\n",
    "            continue\n",
    "        barco = [origen]\n",
    "        ultima_posicion = origen\n",
    "        for i in range(tam_barco - 1):\n",
    "            fila = ultima_posicion[0]\n",
    "            columna = ultima_posicion[1]\n",
    "            if orientacion == \"N\":\n",
    "                fila -= 1\n",
    "            elif orientacion == \"S\":\n",
    "                fila +=1\n",
    "            elif orientacion == \"E\":\n",
    "                columna += 1\n",
    "            elif orientacion == \"O\":\n",
    "                columna -= 1\n",
    "            ultima_posicion = (fila,columna)\n",
    "            if fila < 0 or fila > y:\n",
    "                break\n",
    "            elif columna <0 or columna > x:\n",
    "                break\n",
    "            elif tablero[ultima_posicion] == \"x\" or tablero[ultima_posicion] == \"O\":\n",
    "                break\n",
    "            barco.append(ultima_posicion)\n",
    "        if len(barco) == tam_barco:\n",
    "            colocado = True\n",
    "\n",
    "def colocar_barco(tablero, tam_barco):\n",
    "    for longitud, cantidad in barcos.items():\n",
    "        for i in range(cantidad):\n",
    "            colocar_barco_aleatorio(tablero, tam_barco)\n",
    "\n",
    "#Montamos los barcos en el tablero\n",
    "# colocar_barco_predefinido(tablero_jugador, barcos_jugador)\n",
    "# colocar_barco_predefinido(tablero_maquina, barcos_maquina)"
   ]
  },
  {
   "cell_type": "code",
   "execution_count": null,
   "metadata": {},
   "outputs": [],
   "source": [
    "def condicion_victoria():\n",
    "    global hay_ganadore\n",
    "    ganador = False\n",
    "    if (c_barco in tablero_jugador) == False:                           # Comprobamos si hay algún barco en pie y sino declaramos ganador.\n",
    "        suspense()\n",
    "        print(f'Lo siento {id_jugador}, gana la máquina.')\n",
    "        hay_ganadore +=1\n",
    "        ganador = True\n",
    "    elif (c_barco in tablero_maquina) == False:\n",
    "        suspense()\n",
    "        print(f'¡Enhorabuena, {id_jugador}! ¡Has ganado! \\n Has tardado {turnos} turnos.')\n",
    "        hay_ganadore +=1\n",
    "        ganador = True\n",
    "    return ganador"
   ]
  },
  {
   "cell_type": "code",
   "execution_count": 3,
   "metadata": {},
   "outputs": [
    {
     "ename": "NameError",
     "evalue": "name 'mostrar_tableros' is not defined",
     "output_type": "error",
     "traceback": [
      "\u001b[1;31m---------------------------------------------------------------------------\u001b[0m",
      "\u001b[1;31mNameError\u001b[0m                                 Traceback (most recent call last)",
      "\u001b[1;32mc:\\Users\\Usuario\\Downloads\\funciones_OKy_Sara_2.ipynb Cell 10\u001b[0m line \u001b[0;36m2\n\u001b[0;32m      <a href='vscode-notebook-cell:/c%3A/Users/Usuario/Downloads/funciones_OKy_Sara_2.ipynb#X12sZmlsZQ%3D%3D?line=0'>1</a>\u001b[0m \u001b[39mwhile\u001b[39;00m \u001b[39mTrue\u001b[39;00m:\n\u001b[1;32m----> <a href='vscode-notebook-cell:/c%3A/Users/Usuario/Downloads/funciones_OKy_Sara_2.ipynb#X12sZmlsZQ%3D%3D?line=1'>2</a>\u001b[0m     mostrar_tableros()\n\u001b[0;32m      <a href='vscode-notebook-cell:/c%3A/Users/Usuario/Downloads/funciones_OKy_Sara_2.ipynb#X12sZmlsZQ%3D%3D?line=2'>3</a>\u001b[0m     contador_turnos()\n\u001b[0;32m      <a href='vscode-notebook-cell:/c%3A/Users/Usuario/Downloads/funciones_OKy_Sara_2.ipynb#X12sZmlsZQ%3D%3D?line=3'>4</a>\u001b[0m     disparo_jugador()\n",
      "\u001b[1;31mNameError\u001b[0m: name 'mostrar_tableros' is not defined"
     ]
    }
   ],
   "source": [
    "while True:\n",
    "    mostrar_tableros()\n",
    "    contador_turnos()\n",
    "    disparo_jugador()\n",
    "    if break_point != 0:\n",
    "        print(f'¡Te veo a la próxima, {id_jugador}!')\n",
    "        break\n",
    "    if hay_ganadore != 0:\n",
    "        mostrar_tableros()\n",
    "        break\n",
    "    mostrar_tableros()\n",
    "    disparo_maquina()\n",
    "    if hay_ganadore != 0:\n",
    "        mostrar_tableros()\n",
    "        break\n"
   ]
  }
 ],
 "metadata": {
  "kernelspec": {
   "display_name": "Python 3",
   "language": "python",
   "name": "python3"
  },
  "language_info": {
   "codemirror_mode": {
    "name": "ipython",
    "version": 3
   },
   "file_extension": ".py",
   "mimetype": "text/x-python",
   "name": "python",
   "nbconvert_exporter": "python",
   "pygments_lexer": "ipython3",
   "version": "3.12.0"
  }
 },
 "nbformat": 4,
 "nbformat_minor": 2
}
