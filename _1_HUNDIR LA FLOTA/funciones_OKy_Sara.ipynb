{
 "cells": [
  {
   "cell_type": "code",
   "execution_count": 2,
   "metadata": {},
   "outputs": [
    {
     "name": "stdout",
     "output_type": "stream",
     "text": [
      "[['~' '~' '~' '~' '~' '~' '~' '~' '~' '~']\n",
      " ['~' '~' '~' '~' '~' '~' '~' '~' '~' '~']\n",
      " ['~' '~' '~' '~' '~' '~' '~' '~' '~' '~']\n",
      " ['~' '~' '~' '~' '~' '~' '~' '~' '~' '~']\n",
      " ['~' '~' '~' '~' '~' '~' '~' '~' '~' '~']\n",
      " ['~' '~' '~' '~' '~' '~' '~' '~' '~' '~']\n",
      " ['~' '~' '~' '~' '~' '~' '~' '~' '~' '~']\n",
      " ['~' '~' '~' '~' '~' '~' '~' '~' '~' '~']\n",
      " ['~' '~' '~' '~' '~' '~' '~' '~' '~' '~']\n",
      " ['~' '~' '~' '~' '~' '~' '~' '~' '~' '~']]\n",
      "[[' ' ' ' ' ' ' ' ' ' ' ' ' ' ' ' ' ' ' ']\n",
      " [' ' ' ' ' ' 'O' 'O' 'O' 'O' ' ' ' ' ' ']\n",
      " [' ' ' ' ' ' ' ' ' ' ' ' ' ' ' ' ' ' ' ']\n",
      " [' ' ' ' ' ' ' ' ' ' ' ' ' ' ' ' ' ' ' ']\n",
      " [' ' ' ' ' ' ' ' ' ' ' ' ' ' ' ' ' ' ' ']\n",
      " [' ' ' ' ' ' ' ' ' ' ' ' ' ' ' ' ' ' ' ']\n",
      " [' ' ' ' ' ' ' ' ' ' ' ' ' ' ' ' ' ' ' ']\n",
      " [' ' ' ' ' ' ' ' ' ' ' ' ' ' ' ' ' ' ' ']\n",
      " [' ' ' ' ' ' ' ' ' ' ' ' ' ' ' ' ' ' ' ']\n",
      " [' ' ' ' ' ' ' ' ' ' ' ' ' ' ' ' ' ' ' ']]\n",
      "[[' ' ' ' ' ' ' ' ' ' ' ' ' ' ' ' ' ' ' ']\n",
      " [' ' ' ' ' ' 'O' 'O' 'O' 'O' ' ' ' ' ' ']\n",
      " [' ' ' ' ' ' ' ' ' ' ' ' ' ' ' ' ' ' ' ']\n",
      " [' ' ' ' ' ' ' ' ' ' ' ' ' ' ' ' ' ' ' ']\n",
      " [' ' ' ' ' ' ' ' ' ' ' ' ' ' ' ' ' ' ' ']\n",
      " [' ' ' ' ' ' ' ' ' ' ' ' ' ' ' ' ' ' ' ']\n",
      " [' ' ' ' ' ' ' ' ' ' ' ' ' ' ' ' ' ' ' ']\n",
      " [' ' ' ' ' ' ' ' ' ' ' ' ' ' ' ' ' ' ' ']\n",
      " [' ' ' ' ' ' ' ' ' ' ' ' ' ' ' ' ' ' ' ']\n",
      " [' ' ' ' ' ' ' ' ' ' ' ' ' ' ' ' ' ' ' ']]\n"
     ]
    }
   ],
   "source": [
    "import numpy as np\n",
    "\n",
    "#esto lo pongo ahora para probar la funcion\n",
    "tablero_niebla = np.full((10, 10), \"~\")\n",
    "tablero_maquina = np.full((10, 10), \" \")\n",
    "tablero_maquina[1, 3:7] = 'O'\n",
    "tablero_jugador = np.full((10, 10), \" \")\n",
    "tablero_jugador[1, 3:7] = 'O'\n",
    "\n",
    "print(tablero_niebla)\n",
    "print(tablero_maquina)\n",
    "print(tablero_jugador)"
   ]
  },
  {
   "cell_type": "code",
   "execution_count": 3,
   "metadata": {},
   "outputs": [
    {
     "name": "stdout",
     "output_type": "stream",
     "text": [
      "¡Impacto en las coordenadas (1, 3)! Barco alcanzado.\n",
      "[['~' '~' '~' '~' '~' '~' '~' '~' '~' '~']\n",
      " ['~' '~' '~' 'X' '~' '~' '~' '~' '~' '~']\n",
      " ['~' '~' '~' '~' '~' '~' '~' '~' '~' '~']\n",
      " ['~' '~' '~' '~' '~' '~' '~' '~' '~' '~']\n",
      " ['~' '~' '~' '~' '~' '~' '~' '~' '~' '~']\n",
      " ['~' '~' '~' '~' '~' '~' '~' '~' '~' '~']\n",
      " ['~' '~' '~' '~' '~' '~' '~' '~' '~' '~']\n",
      " ['~' '~' '~' '~' '~' '~' '~' '~' '~' '~']\n",
      " ['~' '~' '~' '~' '~' '~' '~' '~' '~' '~']\n",
      " ['~' '~' '~' '~' '~' '~' '~' '~' '~' '~']]\n"
     ]
    }
   ],
   "source": [
    "\n",
    "#Para poner en el main --> WHILE ESTO SEA TRUE SE SIGUE HACIENDO:\n",
    "def disparo_jugador(tablero_maquina):\n",
    "    while True:\n",
    "        disparo_jugador_x = int(input('Introduce la coordenada X de tu disparo: [0,9]'))\n",
    "        disparo_jugador_y = int(input('Introduce la coordenada Y de tu disparo: [0,9]'))\n",
    "\n",
    "        if tablero_maquina[disparo_jugador_x, disparo_jugador_y] == \"O\":\n",
    "            print(f\"¡Impacto en las coordenadas ({disparo_jugador_x}, {disparo_jugador_y})! Barco alcanzado.\")\n",
    "            tablero_niebla[disparo_jugador_x, disparo_jugador_y] = \"X\"\n",
    "            return True\n",
    "        elif tablero_maquina[disparo_jugador_x, disparo_jugador_y] == \" \":\n",
    "            print(f\"Disparo en las coordenadas ({disparo_jugador_x}, {disparo_jugador_y}). Agua.\")\n",
    "            tablero_niebla[disparo_jugador_x, disparo_jugador_y] = \"-\"\n",
    "            return False\n",
    "        elif tablero_maquina[disparo_jugador_x, disparo_jugador_y] == \"X\":\n",
    "            print(f\"Disparo en las coordenadas ({disparo_jugador_x}, {disparo_jugador_y}). Ya habías disparado ahí.\")\n",
    "            tablero_niebla[x, y] = \"-\"\n",
    "            return False\n",
    "\n",
    "disparo_jugador(tablero_maquina)\n",
    "\n",
    "##AQUI IRIA FUNCION OKy PARA PRINTAR EL TABLERO ACTUALIZADO\n",
    "print(tablero_niebla)"
   ]
  },
  {
   "cell_type": "code",
   "execution_count": 8,
   "metadata": {},
   "outputs": [
    {
     "name": "stdout",
     "output_type": "stream",
     "text": [
      "¡Impacto en las coordenadas (1, 6)! Barco alcanzado.\n",
      "[[' ' ' ' ' ' ' ' ' ' ' ' ' ' ' ' ' ' ' ']\n",
      " ['-' ' ' ' ' 'O' 'O' 'O' 'X' ' ' ' ' ' ']\n",
      " [' ' ' ' ' ' ' ' ' ' ' ' ' ' ' ' ' ' ' ']\n",
      " [' ' ' ' ' ' ' ' ' ' ' ' ' ' ' ' ' ' ' ']\n",
      " [' ' ' ' ' ' ' ' ' ' ' ' ' ' ' ' '-' ' ']\n",
      " [' ' ' ' ' ' ' ' ' ' ' ' ' ' ' ' ' ' '-']\n",
      " [' ' ' ' ' ' '-' ' ' ' ' ' ' ' ' ' ' ' ']\n",
      " [' ' ' ' ' ' ' ' ' ' ' ' ' ' ' ' ' ' ' ']\n",
      " [' ' ' ' ' ' ' ' ' ' ' ' ' ' ' ' ' ' ' ']\n",
      " [' ' ' ' ' ' ' ' ' ' ' ' ' ' ' ' ' ' ' ']]\n"
     ]
    }
   ],
   "source": [
    "#SI NO es True -----> SE IMPLEMENTA ESTO:\n",
    "\n",
    "def disparo_maquina(tablero_jugador):\n",
    "    while True:\n",
    "        disparo_maquina_x = np.random.randint(0,10)\n",
    "        disparo_maquina_y = np.random.randint(0,10)\n",
    "\n",
    "        if tablero_jugador[disparo_maquina_x, disparo_maquina_y] == \"O\":\n",
    "            print(f\"¡Impacto en las coordenadas ({disparo_maquina_x}, {disparo_maquina_y})! Barco alcanzado.\")\n",
    "            tablero_jugador[disparo_maquina_x, disparo_maquina_y] = \"X\"\n",
    "            return True\n",
    "        elif tablero_jugador[disparo_maquina_x, disparo_maquina_y] == \" \":\n",
    "            print(f\"Disparo en las coordenadas ({disparo_maquina_x}, {disparo_maquina_y}). Agua.\")\n",
    "            tablero_jugador[disparo_maquina_x, disparo_maquina_y] = \"-\"\n",
    "            return False\n",
    "        elif tablero_jugador[disparo_maquina_x, disparo_maquina_y] == \"X\":\n",
    "            print(f\"Disparo en las coordenadas ({disparo_maquina_x}, {disparo_maquina_y}). Ya habías disparado ahí.\")\n",
    "            tablero_jugador[x, y] = \"-\"\n",
    "            return False\n",
    "\n",
    "disparo_maquina(tablero_jugador)\n",
    "##AQUI IRIA FUNCION OKy PARA PRINTAR EL TABLERO ACTUALIZADO\n",
    "print(tablero_jugador)"
   ]
  },
  {
   "cell_type": "code",
   "execution_count": 1,
   "metadata": {},
   "outputs": [],
   "source": [
    "def colocar_barco_aleatorio(tablero, longitud):\n",
    "    filas, columnas = tablero.shape\n",
    "    orientaciones = [\"N\", \"S\", \"E\", \"O\"]\n",
    "    while True:\n",
    "        x = random.randint(0, filas - 1) #generar aleatoriamente las coordenadas iniciales x e y \n",
    "        y = random.randint(0, columnas - 1)\n",
    "        orientacion = random.choice(orientaciones) #generar aleatoriamente una orientación de la lista\n",
    "        coordenadas = [] # lista vacía para almacenar las posiciones\n",
    "        for _ in range(longitud): #buble para la longitud del barco\n",
    "            if x < 0 or x >= filas or y < 0 or y >= columnas or tablero[x][y] == 'O': #verificamos dentro del tablero y que no hay barco\n",
    "                break\n",
    "            coordenadas.append((x, y)) #si es valido se añade a coordenadas\n",
    "            if orientacion == 'N': #aqui dependiendo de si la orientacion es valida, añado o no a la coordenada\n",
    "                x -= 1\n",
    "            elif orientacion == 'S':\n",
    "                x += 1\n",
    "            elif orientacion == 'E':\n",
    "                y += 1\n",
    "            else:\n",
    "                y -= 1\n",
    "        if len(coordenadas) == longitud: #verifico si coordenadas es la longitud que elegimos al inicio\n",
    "            posicionar_barco(tablero, coordenadas)\n",
    "            break\n"
   ]
  }
 ],
 "metadata": {
  "kernelspec": {
   "display_name": "Python 3",
   "language": "python",
   "name": "python3"
  },
  "language_info": {
   "codemirror_mode": {
    "name": "ipython",
    "version": 3
   },
   "file_extension": ".py",
   "mimetype": "text/x-python",
   "name": "python",
   "nbconvert_exporter": "python",
   "pygments_lexer": "ipython3",
   "version": "3.12.0"
  }
 },
 "nbformat": 4,
 "nbformat_minor": 2
}
