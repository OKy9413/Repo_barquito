{
 "cells": [
  {
   "cell_type": "code",
   "execution_count": 3,
   "metadata": {},
   "outputs": [
    {
     "name": "stdout",
     "output_type": "stream",
     "text": [
      "[['~' '~' '~' '~' '~' '~' '~' '~' '~' '~']\n",
      " ['~' '~' '~' '~' '~' '~' '~' '~' '~' '~']\n",
      " ['~' '~' '~' '~' '~' '~' '~' '~' '~' '~']\n",
      " ['~' '~' '~' '~' '~' '~' '~' '~' '~' '~']\n",
      " ['~' '~' '~' '~' '~' '~' '~' '~' '~' '~']\n",
      " ['~' '~' '~' '~' '~' '~' '~' '~' '~' '~']\n",
      " ['~' '~' '~' '~' '~' '~' '~' '~' '~' '~']\n",
      " ['~' '~' '~' '~' '~' '~' '~' '~' '~' '~']\n",
      " ['~' '~' '~' '~' '~' '~' '~' '~' '~' '~']\n",
      " ['~' '~' '~' '~' '~' '~' '~' '~' '~' '~']]\n",
      "[[' ' ' ' ' ' ' ' ' ' ' ' ' ' ' ' ' ' ' ']\n",
      " [' ' ' ' ' ' 'O' 'O' 'O' 'O' ' ' ' ' ' ']\n",
      " [' ' ' ' ' ' ' ' ' ' ' ' ' ' ' ' ' ' ' ']\n",
      " [' ' ' ' ' ' ' ' ' ' ' ' ' ' ' ' ' ' ' ']\n",
      " [' ' ' ' ' ' ' ' ' ' ' ' ' ' ' ' ' ' ' ']\n",
      " [' ' ' ' ' ' ' ' ' ' ' ' ' ' ' ' ' ' ' ']\n",
      " [' ' ' ' ' ' ' ' ' ' ' ' ' ' ' ' ' ' ' ']\n",
      " [' ' ' ' ' ' ' ' ' ' ' ' ' ' ' ' ' ' ' ']\n",
      " [' ' ' ' ' ' ' ' ' ' ' ' ' ' ' ' ' ' ' ']\n",
      " [' ' ' ' ' ' ' ' ' ' ' ' ' ' ' ' ' ' ' ']]\n",
      "[[' ' ' ' ' ' ' ' ' ' ' ' ' ' ' ' ' ' ' ']\n",
      " [' ' ' ' ' ' 'O' 'O' 'O' 'O' ' ' ' ' ' ']\n",
      " [' ' ' ' ' ' ' ' ' ' ' ' ' ' ' ' ' ' ' ']\n",
      " [' ' ' ' ' ' ' ' ' ' ' ' ' ' ' ' ' ' ' ']\n",
      " [' ' ' ' ' ' ' ' ' ' ' ' ' ' ' ' ' ' ' ']\n",
      " [' ' ' ' ' ' ' ' ' ' ' ' ' ' ' ' ' ' ' ']\n",
      " [' ' ' ' ' ' ' ' ' ' ' ' ' ' ' ' ' ' ' ']\n",
      " [' ' ' ' ' ' ' ' ' ' ' ' ' ' ' ' ' ' ' ']\n",
      " [' ' ' ' ' ' ' ' ' ' ' ' ' ' ' ' ' ' ' ']\n",
      " [' ' ' ' ' ' ' ' ' ' ' ' ' ' ' ' ' ' ' ']]\n"
     ]
    }
   ],
   "source": [
    "import numpy as np\n",
    "\n",
    "#esto lo pongo ahora para probar la funcion\n",
    "tablero_niebla = np.full((10, 10), \"~\")\n",
    "tablero_maquina = np.full((10, 10), \" \")\n",
    "tablero_maquina[1, 3:7] = 'O'\n",
    "tablero_jugador = np.full((10, 10), \" \")\n",
    "tablero_jugador[1, 3:7] = 'O'\n",
    "\n",
    "print(tablero_niebla)\n",
    "print(tablero_maquina)\n",
    "print(tablero_jugador)"
   ]
  },
  {
   "cell_type": "code",
   "execution_count": 2,
   "metadata": {},
   "outputs": [
    {
     "name": "stdout",
     "output_type": "stream",
     "text": [
      "¡Impacto en las coordenadas (1, 3)! Barco alcanzado.\n",
      "[['~' '~' '~' '~' '~' '~' '~' '~' '~' '~']\n",
      " ['~' '~' '~' 'X' '~' '~' '~' '~' '~' '~']\n",
      " ['~' '~' '~' '~' '~' '~' '~' '~' '~' '~']\n",
      " ['~' '~' '~' '~' '~' '~' '~' '~' '~' '~']\n",
      " ['~' '~' '~' '~' '~' '~' '~' '~' '~' '~']\n",
      " ['~' '~' '~' '~' '~' '~' '~' '~' '~' '~']\n",
      " ['~' '~' '~' '~' '~' '~' '~' '~' '~' '~']\n",
      " ['~' '~' '~' '~' '~' '~' '~' '~' '~' '~']\n",
      " ['~' '~' '~' '~' '~' '~' '~' '~' '~' '~']\n",
      " ['~' '~' '~' '~' '~' '~' '~' '~' '~' '~']]\n"
     ]
    }
   ],
   "source": [
    "\n",
    "#Para poner en el main --> WHILE ESTO SEA TRUE SE SIGUE HACIENDO:\n",
    "def disparo_jugador(tablero_maquina):\n",
    "    while True:\n",
    "        disparo_jugador_x = int(input('Introduce la coordenada X de tu disparo: [0,9]'))\n",
    "        disparo_jugador_y = int(input('Introduce la coordenada Y de tu disparo: [0,9]'))\n",
    "\n",
    "        if tablero_maquina[disparo_jugador_x, disparo_jugador_y] == \"O\":\n",
    "            print(f\"¡Impacto en las coordenadas ({disparo_jugador_x}, {disparo_jugador_y})! Barco alcanzado.\")\n",
    "            tablero_niebla[disparo_jugador_x, disparo_jugador_y] = \"X\"\n",
    "            return True\n",
    "        elif tablero_maquina[disparo_jugador_x, disparo_jugador_y] == \" \":\n",
    "            print(f\"Disparo en las coordenadas ({disparo_jugador_x}, {disparo_jugador_y}). Agua.\")\n",
    "            tablero_niebla[disparo_jugador_x, disparo_jugador_y] = \"-\"\n",
    "            return False\n",
    "        elif tablero_maquina[disparo_jugador_x, disparo_jugador_y] == \"X\":\n",
    "            print(f\"Disparo en las coordenadas ({disparo_jugador_x}, {disparo_jugador_y}). Ya habías disparado ahí.\")\n",
    "            tablero_niebla[x, y] = \"-\"\n",
    "            return False\n",
    "\n",
    "disparo_jugador(tablero_maquina)\n",
    "\n",
    "##AQUI IRIA FUNCION OKy PARA PRINTAR EL TABLERO ACTUALIZADO\n",
    "print(tablero_niebla)"
   ]
  },
  {
   "cell_type": "code",
   "execution_count": 7,
   "metadata": {},
   "outputs": [
    {
     "ename": "NameError",
     "evalue": "name 'disparo_jugador_x' is not defined",
     "output_type": "error",
     "traceback": [
      "\u001b[0;31m---------------------------------------------------------------------------\u001b[0m",
      "\u001b[0;31mNameError\u001b[0m                                 Traceback (most recent call last)",
      "\u001b[1;32m/Users/spico/Desktop/Bootcamp/Repo_barquito/_1_HUNDIR LA FLOTA/funciones_OKy_Sara.ipynb Cell 3\u001b[0m line \u001b[0;36m2\n\u001b[1;32m     <a href='vscode-notebook-cell:/Users/spico/Desktop/Bootcamp/Repo_barquito/_1_HUNDIR%20LA%20FLOTA/funciones_OKy_Sara.ipynb#W2sZmlsZQ%3D%3D?line=17'>18</a>\u001b[0m             tablero_jugador[x, y] \u001b[39m=\u001b[39m \u001b[39m\"\u001b[39m\u001b[39m-\u001b[39m\u001b[39m\"\u001b[39m\n\u001b[1;32m     <a href='vscode-notebook-cell:/Users/spico/Desktop/Bootcamp/Repo_barquito/_1_HUNDIR%20LA%20FLOTA/funciones_OKy_Sara.ipynb#W2sZmlsZQ%3D%3D?line=18'>19</a>\u001b[0m             \u001b[39mreturn\u001b[39;00m \u001b[39mFalse\u001b[39;00m\n\u001b[0;32m---> <a href='vscode-notebook-cell:/Users/spico/Desktop/Bootcamp/Repo_barquito/_1_HUNDIR%20LA%20FLOTA/funciones_OKy_Sara.ipynb#W2sZmlsZQ%3D%3D?line=20'>21</a>\u001b[0m disparo_maquina(tablero_jugador)\n\u001b[1;32m     <a href='vscode-notebook-cell:/Users/spico/Desktop/Bootcamp/Repo_barquito/_1_HUNDIR%20LA%20FLOTA/funciones_OKy_Sara.ipynb#W2sZmlsZQ%3D%3D?line=21'>22</a>\u001b[0m \u001b[39m##AQUI IRIA FUNCION OKy PARA PRINTAR EL TABLERO ACTUALIZADO\u001b[39;00m\n\u001b[1;32m     <a href='vscode-notebook-cell:/Users/spico/Desktop/Bootcamp/Repo_barquito/_1_HUNDIR%20LA%20FLOTA/funciones_OKy_Sara.ipynb#W2sZmlsZQ%3D%3D?line=22'>23</a>\u001b[0m \u001b[39mprint\u001b[39m(tablero_jugador)\n",
      "\u001b[1;32m/Users/spico/Desktop/Bootcamp/Repo_barquito/_1_HUNDIR LA FLOTA/funciones_OKy_Sara.ipynb Cell 3\u001b[0m line \u001b[0;36m9\n\u001b[1;32m      <a href='vscode-notebook-cell:/Users/spico/Desktop/Bootcamp/Repo_barquito/_1_HUNDIR%20LA%20FLOTA/funciones_OKy_Sara.ipynb#W2sZmlsZQ%3D%3D?line=5'>6</a>\u001b[0m disparo_maquina_y \u001b[39m=\u001b[39m np\u001b[39m.\u001b[39mrandom\u001b[39m.\u001b[39mrandint(\u001b[39m0\u001b[39m,\u001b[39m10\u001b[39m)\n\u001b[1;32m      <a href='vscode-notebook-cell:/Users/spico/Desktop/Bootcamp/Repo_barquito/_1_HUNDIR%20LA%20FLOTA/funciones_OKy_Sara.ipynb#W2sZmlsZQ%3D%3D?line=7'>8</a>\u001b[0m \u001b[39mif\u001b[39;00m tablero_jugador[disparo_maquina_x, disparo_maquina_y] \u001b[39m==\u001b[39m \u001b[39m\"\u001b[39m\u001b[39mO\u001b[39m\u001b[39m\"\u001b[39m:\n\u001b[0;32m----> <a href='vscode-notebook-cell:/Users/spico/Desktop/Bootcamp/Repo_barquito/_1_HUNDIR%20LA%20FLOTA/funciones_OKy_Sara.ipynb#W2sZmlsZQ%3D%3D?line=8'>9</a>\u001b[0m     \u001b[39mprint\u001b[39m(\u001b[39mf\u001b[39m\u001b[39m\"\u001b[39m\u001b[39m¡Impacto en las coordenadas (\u001b[39m\u001b[39m{\u001b[39;00mdisparo_jugador_x\u001b[39m}\u001b[39;00m\u001b[39m, \u001b[39m\u001b[39m{\u001b[39;00mdisparo_jugador_y\u001b[39m}\u001b[39;00m\u001b[39m)! Barco alcanzado.\u001b[39m\u001b[39m\"\u001b[39m)\n\u001b[1;32m     <a href='vscode-notebook-cell:/Users/spico/Desktop/Bootcamp/Repo_barquito/_1_HUNDIR%20LA%20FLOTA/funciones_OKy_Sara.ipynb#W2sZmlsZQ%3D%3D?line=9'>10</a>\u001b[0m     tablero_jugador[disparo_maquina_x, disparo_maquina_y] \u001b[39m=\u001b[39m \u001b[39m\"\u001b[39m\u001b[39mX\u001b[39m\u001b[39m\"\u001b[39m\n\u001b[1;32m     <a href='vscode-notebook-cell:/Users/spico/Desktop/Bootcamp/Repo_barquito/_1_HUNDIR%20LA%20FLOTA/funciones_OKy_Sara.ipynb#W2sZmlsZQ%3D%3D?line=10'>11</a>\u001b[0m     \u001b[39mreturn\u001b[39;00m \u001b[39mTrue\u001b[39;00m\n",
      "\u001b[0;31mNameError\u001b[0m: name 'disparo_jugador_x' is not defined"
     ]
    }
   ],
   "source": [
    "#SI NO es True -----> SE IMPLEMENTA ESTO:\n",
    "\n",
    "def disparo_maquina(tablero_jugador):\n",
    "    while True:\n",
    "        disparo_maquina_x = np.random.randint(0,10)\n",
    "        disparo_maquina_y = np.random.randint(0,10)\n",
    "\n",
    "        if tablero_jugador[disparo_maquina_x, disparo_maquina_y] == \"O\":\n",
    "            print(f\"¡Impacto en las coordenadas ({disparo_maquina_x}, {disparo_maquina_y})! Barco alcanzado.\")\n",
    "            tablero_jugador[disparo_maquina_x, disparo_maquina_y] = \"X\"\n",
    "            return True\n",
    "        elif tablero_jugador[disparo_maquina_x, disparo_maquina_y] == \" \":\n",
    "            print(f\"Disparo en las coordenadas ({disparo_maquina_x}, {disparo_maquina_y}). Agua.\")\n",
    "            tablero_jugador[disparo_maquina_x, disparo_maquina_y] = \"-\"\n",
    "            return False\n",
    "        elif tablero_jugador[disparo_maquina_x, disparo_maquina_y] == \"X\":\n",
    "            print(f\"Disparo en las coordenadas ({disparo_maquina_x}, {disparo_maquina_y}). Ya habías disparado ahí.\")\n",
    "            tablero_jugador[x, y] = \"-\"\n",
    "            return False\n",
    "\n",
    "disparo_maquina(tablero_jugador)\n",
    "##AQUI IRIA FUNCION OKy PARA PRINTAR EL TABLERO ACTUALIZADO\n",
    "print(tablero_jugador)"
   ]
  },
  {
   "cell_type": "code",
   "execution_count": null,
   "metadata": {},
   "outputs": [],
   "source": []
  }
 ],
 "metadata": {
  "kernelspec": {
   "display_name": "Python 3",
   "language": "python",
   "name": "python3"
  },
  "language_info": {
   "codemirror_mode": {
    "name": "ipython",
    "version": 3
   },
   "file_extension": ".py",
   "mimetype": "text/x-python",
   "name": "python",
   "nbconvert_exporter": "python",
   "pygments_lexer": "ipython3",
   "version": "3.11.5"
  }
 },
 "nbformat": 4,
 "nbformat_minor": 2
}
