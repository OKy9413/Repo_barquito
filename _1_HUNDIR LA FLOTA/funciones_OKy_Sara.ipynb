{
 "cells": [
  {
   "cell_type": "code",
   "execution_count": 2,
   "metadata": {},
   "outputs": [
    {
     "name": "stdout",
     "output_type": "stream",
     "text": [
      "[['~' '~' '~' '~' '~' '~' '~' '~' '~' '~']\n",
      " ['~' '~' '~' '~' '~' '~' '~' '~' '~' '~']\n",
      " ['~' '~' '~' '~' '~' '~' '~' '~' '~' '~']\n",
      " ['~' '~' '~' '~' '~' '~' '~' '~' '~' '~']\n",
      " ['~' '~' '~' '~' '~' '~' '~' '~' '~' '~']\n",
      " ['~' '~' '~' '~' '~' '~' '~' '~' '~' '~']\n",
      " ['~' '~' '~' '~' '~' '~' '~' '~' '~' '~']\n",
      " ['~' '~' '~' '~' '~' '~' '~' '~' '~' '~']\n",
      " ['~' '~' '~' '~' '~' '~' '~' '~' '~' '~']\n",
      " ['~' '~' '~' '~' '~' '~' '~' '~' '~' '~']]\n",
      "[[' ' ' ' ' ' ' ' ' ' ' ' ' ' ' ' ' ' ' ']\n",
      " [' ' ' ' ' ' 'O' 'O' 'O' 'O' ' ' ' ' ' ']\n",
      " [' ' ' ' ' ' ' ' ' ' ' ' ' ' ' ' ' ' ' ']\n",
      " [' ' ' ' ' ' ' ' ' ' ' ' ' ' ' ' ' ' ' ']\n",
      " [' ' ' ' ' ' ' ' ' ' ' ' ' ' ' ' ' ' ' ']\n",
      " [' ' ' ' ' ' ' ' ' ' ' ' ' ' ' ' ' ' ' ']\n",
      " [' ' ' ' ' ' ' ' ' ' ' ' ' ' ' ' ' ' ' ']\n",
      " [' ' ' ' ' ' ' ' ' ' ' ' ' ' ' ' ' ' ' ']\n",
      " [' ' ' ' ' ' ' ' ' ' ' ' ' ' ' ' ' ' ' ']\n",
      " [' ' ' ' ' ' ' ' ' ' ' ' ' ' ' ' ' ' ' ']]\n",
      "[[' ' ' ' ' ' ' ' ' ' ' ' ' ' ' ' ' ' ' ']\n",
      " [' ' ' ' ' ' 'O' 'O' 'O' 'O' ' ' ' ' ' ']\n",
      " [' ' ' ' ' ' ' ' ' ' ' ' ' ' ' ' ' ' ' ']\n",
      " [' ' ' ' ' ' ' ' ' ' ' ' ' ' ' ' ' ' ' ']\n",
      " [' ' ' ' ' ' ' ' ' ' ' ' ' ' ' ' ' ' ' ']\n",
      " [' ' ' ' ' ' ' ' ' ' ' ' ' ' ' ' ' ' ' ']\n",
      " [' ' ' ' ' ' ' ' ' ' ' ' ' ' ' ' ' ' ' ']\n",
      " [' ' ' ' ' ' ' ' ' ' ' ' ' ' ' ' ' ' ' ']\n",
      " [' ' ' ' ' ' ' ' ' ' ' ' ' ' ' ' ' ' ' ']\n",
      " [' ' ' ' ' ' ' ' ' ' ' ' ' ' ' ' ' ' ' ']]\n"
     ]
    }
   ],
   "source": [
    "import numpy as np\n",
    "\n",
    "#esto lo pongo ahora para probar la funcion\n",
    "tablero_niebla = np.full((10, 10), \"~\")\n",
    "tablero_maquina = np.full((10, 10), \" \")\n",
    "tablero_maquina[1, 3:7] = 'O'\n",
    "tablero_jugador = np.full((10, 10), \" \")\n",
    "tablero_jugador[1, 3:7] = 'O'\n",
    "\n",
    "print(tablero_niebla)\n",
    "print(tablero_maquina)\n",
    "print(tablero_jugador)"
   ]
  },
  {
   "cell_type": "code",
   "execution_count": 3,
   "metadata": {},
   "outputs": [
    {
     "name": "stdout",
     "output_type": "stream",
     "text": [
      "¡Impacto en las coordenadas (1, 3)! Barco alcanzado.\n",
      "[['~' '~' '~' '~' '~' '~' '~' '~' '~' '~']\n",
      " ['~' '~' '~' 'X' '~' '~' '~' '~' '~' '~']\n",
      " ['~' '~' '~' '~' '~' '~' '~' '~' '~' '~']\n",
      " ['~' '~' '~' '~' '~' '~' '~' '~' '~' '~']\n",
      " ['~' '~' '~' '~' '~' '~' '~' '~' '~' '~']\n",
      " ['~' '~' '~' '~' '~' '~' '~' '~' '~' '~']\n",
      " ['~' '~' '~' '~' '~' '~' '~' '~' '~' '~']\n",
      " ['~' '~' '~' '~' '~' '~' '~' '~' '~' '~']\n",
      " ['~' '~' '~' '~' '~' '~' '~' '~' '~' '~']\n",
      " ['~' '~' '~' '~' '~' '~' '~' '~' '~' '~']]\n"
     ]
    }
   ],
   "source": [
    "\n",
    "#Para poner en el main --> WHILE ESTO SEA TRUE SE SIGUE HACIENDO:\n",
    "def disparo_jugador(tablero_maquina):\n",
    "    while True:\n",
    "        disparo_jugador_x = int(input('Introduce la coordenada X de tu disparo: [0,9]'))\n",
    "        disparo_jugador_y = int(input('Introduce la coordenada Y de tu disparo: [0,9]'))\n",
    "\n",
    "        if tablero_maquina[disparo_jugador_x, disparo_jugador_y] == \"O\":\n",
    "            print(f\"¡Impacto en las coordenadas ({disparo_jugador_x}, {disparo_jugador_y})! Barco alcanzado.\")\n",
    "            tablero_niebla[disparo_jugador_x, disparo_jugador_y] = \"X\"\n",
    "            return True\n",
    "        elif tablero_maquina[disparo_jugador_x, disparo_jugador_y] == \" \":\n",
    "            print(f\"Disparo en las coordenadas ({disparo_jugador_x}, {disparo_jugador_y}). Agua.\")\n",
    "            tablero_niebla[disparo_jugador_x, disparo_jugador_y] = \"-\"\n",
    "            return False\n",
    "        elif tablero_maquina[disparo_jugador_x, disparo_jugador_y] == \"X\":\n",
    "            print(f\"Disparo en las coordenadas ({disparo_jugador_x}, {disparo_jugador_y}). Ya habías disparado ahí.\")\n",
    "            tablero_niebla[x, y] = \"-\"\n",
    "            return False\n",
    "\n",
    "disparo_jugador(tablero_maquina)\n",
    "\n",
    "##AQUI IRIA FUNCION OKy PARA PRINTAR EL TABLERO ACTUALIZADO\n",
    "print(tablero_niebla)"
   ]
  },
  {
   "cell_type": "code",
   "execution_count": 8,
   "metadata": {},
   "outputs": [
    {
     "name": "stdout",
     "output_type": "stream",
     "text": [
      "¡Impacto en las coordenadas (1, 6)! Barco alcanzado.\n",
      "[[' ' ' ' ' ' ' ' ' ' ' ' ' ' ' ' ' ' ' ']\n",
      " ['-' ' ' ' ' 'O' 'O' 'O' 'X' ' ' ' ' ' ']\n",
      " [' ' ' ' ' ' ' ' ' ' ' ' ' ' ' ' ' ' ' ']\n",
      " [' ' ' ' ' ' ' ' ' ' ' ' ' ' ' ' ' ' ' ']\n",
      " [' ' ' ' ' ' ' ' ' ' ' ' ' ' ' ' '-' ' ']\n",
      " [' ' ' ' ' ' ' ' ' ' ' ' ' ' ' ' ' ' '-']\n",
      " [' ' ' ' ' ' '-' ' ' ' ' ' ' ' ' ' ' ' ']\n",
      " [' ' ' ' ' ' ' ' ' ' ' ' ' ' ' ' ' ' ' ']\n",
      " [' ' ' ' ' ' ' ' ' ' ' ' ' ' ' ' ' ' ' ']\n",
      " [' ' ' ' ' ' ' ' ' ' ' ' ' ' ' ' ' ' ' ']]\n"
     ]
    }
   ],
   "source": [
    "#SI NO es True -----> SE IMPLEMENTA ESTO:\n",
    "\n",
    "def disparo_maquina(tablero_jugador):\n",
    "    while True:\n",
    "        disparo_maquina_x = np.random.randint(0,10)\n",
    "        disparo_maquina_y = np.random.randint(0,10)\n",
    "\n",
    "        if tablero_jugador[disparo_maquina_x, disparo_maquina_y] == \"O\":\n",
    "            print(f\"¡Impacto en las coordenadas ({disparo_maquina_x}, {disparo_maquina_y})! Barco alcanzado.\")\n",
    "            tablero_jugador[disparo_maquina_x, disparo_maquina_y] = \"X\"\n",
    "            return True\n",
    "        elif tablero_jugador[disparo_maquina_x, disparo_maquina_y] == \" \":\n",
    "            print(f\"Disparo en las coordenadas ({disparo_maquina_x}, {disparo_maquina_y}). Agua.\")\n",
    "            tablero_jugador[disparo_maquina_x, disparo_maquina_y] = \"-\"\n",
    "            return False\n",
    "        elif tablero_jugador[disparo_maquina_x, disparo_maquina_y] == \"X\":\n",
    "            print(f\"Disparo en las coordenadas ({disparo_maquina_x}, {disparo_maquina_y}). Ya habías disparado ahí.\")\n",
    "            tablero_jugador[x, y] = \"-\"\n",
    "            return False\n",
    "\n",
    "disparo_maquina(tablero_jugador)\n",
    "##AQUI IRIA FUNCION OKy PARA PRINTAR EL TABLERO ACTUALIZADO\n",
    "print(tablero_jugador)"
   ]
  },
  {
   "cell_type": "code",
   "execution_count": null,
   "metadata": {},
   "outputs": [],
   "source": []
  }
 ],
 "metadata": {
  "kernelspec": {
   "display_name": "Python 3",
   "language": "python",
   "name": "python3"
  },
  "language_info": {
   "codemirror_mode": {
    "name": "ipython",
    "version": 3
   },
   "file_extension": ".py",
   "mimetype": "text/x-python",
   "name": "python",
   "nbconvert_exporter": "python",
   "pygments_lexer": "ipython3",
   "version": "3.11.5"
  }
 },
 "nbformat": 4,
 "nbformat_minor": 2
}
