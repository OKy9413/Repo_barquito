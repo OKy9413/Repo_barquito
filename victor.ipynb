{
 "cells": [
  {
   "cell_type": "code",
   "execution_count": 58,
   "metadata": {},
   "outputs": [
    {
     "name": "stdout",
     "output_type": "stream",
     "text": [
      "🤖,🐟\n"
     ]
    }
   ],
   "source": [
    "\n",
    "\n",
    "print(\"\\U0001F916,\\U0001F41F\")"
   ]
  },
  {
   "cell_type": "markdown",
   "metadata": {},
   "source": [
    "Clase Tablero: <br>\n",
    "self.crear tablero - <br>\n",
    "self._______ -<br>\n",
    "self._______ - <br>\n",
    "def tablero_jugador <br>\n",
    "def tablero_maquina <br>\n",
    "def tablero_niebla <br>\n",
    "<br>\n",
    "def bienvenida: Victor<br>\n",
    "Presentación (preguntar id_jugador)<br>\n",
    "Instrucciones (reglas) Victor<br>\n",
    "def tablero_jugador np.full(10,10…) <br>\n",
    "def tablero_maquina np.full(10,10…) <br>\n",
    "def tablero_niebla np.full(10,10…) \n",
    "\n",
    "\n"
   ]
  },
  {
   "cell_type": "code",
   "execution_count": 59,
   "metadata": {},
   "outputs": [],
   "source": [
    "class Tablero:\n",
    "\n",
    "\n",
    "    \"\"\"def __init__(self, self.tablero_jugador, self.tablero_maquina, self.tablero_niebla,self.______,self.______,self.______,self.______,self.______):\n",
    "        self.tablero_jugador = tablero_jugador\n",
    "        self.tablero_maquina = tablero_maquina\n",
    "        self.tablero_niebla = tablero_niebla\n",
    "        self.______ = ______\n",
    "        self.______ = ______\n",
    "        self.______ = ______\n",
    "        self.______ = ______\"\"\"\n",
    "\n",
    "    \n",
    "    pass\n",
    "\n"
   ]
  },
  {
   "cell_type": "code",
   "execution_count": null,
   "metadata": {},
   "outputs": [],
   "source": [
    "c_barco = 'O'\n",
    "c_tocado = 'X'\n",
    "c_agua = ' '\n",
    "c_agua_tiro = '/'\n",
    "c_niebla = '~'\n",
    "turnos = 0\n",
    "hay_ganadore = 0\n",
    "break_point = 0\n",
    "id_jugador = 'Sara'"
   ]
  },
  {
   "cell_type": "code",
   "execution_count": 1,
   "metadata": {},
   "outputs": [],
   "source": [
    "import numpy as np\n",
    "from colorama import Fore, Back, Style\n",
    "import time\n",
    "\n",
    "dimension = 10\n",
    "def tablero_jugador(dimension):\n",
    "    # imptimir tablero\n",
    "    tablero_j = np.full((dimension,dimension), \" \")\n",
    "    return tablero_j\n",
    "\n",
    "\n",
    "def tablero_maquina(dimension):\n",
    "    # imptimir tablero\n",
    "    tablero_m = np.full((dimension,dimension), \" \")\n",
    "    return tablero_m\n",
    "\n",
    "def tablero_niebla(dimension):\n",
    "    #imprimir tablero\n",
    "    tablero_n = np.full((dimension, dimension), \" \")\n",
    "    return tablero_n\n",
    "\n"
   ]
  },
  {
   "cell_type": "code",
   "execution_count": 78,
   "metadata": {},
   "outputs": [
    {
     "data": {
      "text/plain": [
       "array([[' ', ' ', ' ', ' ', ' ', ' ', ' ', ' ', ' ', ' '],\n",
       "       [' ', ' ', ' ', ' ', ' ', ' ', ' ', ' ', ' ', ' '],\n",
       "       [' ', ' ', ' ', ' ', ' ', ' ', ' ', ' ', ' ', ' '],\n",
       "       [' ', ' ', ' ', ' ', ' ', ' ', ' ', ' ', ' ', ' '],\n",
       "       [' ', ' ', ' ', ' ', ' ', ' ', ' ', ' ', ' ', ' '],\n",
       "       [' ', ' ', ' ', ' ', ' ', ' ', ' ', ' ', ' ', ' '],\n",
       "       [' ', ' ', ' ', ' ', ' ', ' ', ' ', ' ', ' ', ' '],\n",
       "       [' ', ' ', ' ', ' ', ' ', ' ', ' ', ' ', ' ', ' '],\n",
       "       [' ', ' ', ' ', ' ', ' ', ' ', ' ', ' ', ' ', ' '],\n",
       "       [' ', ' ', ' ', ' ', ' ', ' ', ' ', ' ', ' ', ' ']], dtype='<U1')"
      ]
     },
     "execution_count": 78,
     "metadata": {},
     "output_type": "execute_result"
    }
   ],
   "source": [
    "#probamos funciones\n",
    "tablero_jugador(10)"
   ]
  },
  {
   "cell_type": "code",
   "execution_count": 79,
   "metadata": {},
   "outputs": [
    {
     "data": {
      "text/plain": [
       "array([[' ', ' ', ' ', ' ', ' ', ' ', ' ', ' ', ' ', ' '],\n",
       "       [' ', ' ', ' ', ' ', ' ', ' ', ' ', ' ', ' ', ' '],\n",
       "       [' ', ' ', ' ', ' ', ' ', ' ', ' ', ' ', ' ', ' '],\n",
       "       [' ', ' ', ' ', ' ', ' ', ' ', ' ', ' ', ' ', ' '],\n",
       "       [' ', ' ', ' ', ' ', ' ', ' ', ' ', ' ', ' ', ' '],\n",
       "       [' ', ' ', ' ', ' ', ' ', ' ', ' ', ' ', ' ', ' '],\n",
       "       [' ', ' ', ' ', ' ', ' ', ' ', ' ', ' ', ' ', ' '],\n",
       "       [' ', ' ', ' ', ' ', ' ', ' ', ' ', ' ', ' ', ' '],\n",
       "       [' ', ' ', ' ', ' ', ' ', ' ', ' ', ' ', ' ', ' '],\n",
       "       [' ', ' ', ' ', ' ', ' ', ' ', ' ', ' ', ' ', ' ']], dtype='<U1')"
      ]
     },
     "execution_count": 79,
     "metadata": {},
     "output_type": "execute_result"
    }
   ],
   "source": [
    "tablero_maquina(10)"
   ]
  },
  {
   "cell_type": "code",
   "execution_count": 80,
   "metadata": {},
   "outputs": [
    {
     "data": {
      "text/plain": [
       "array([[' ', ' ', ' ', ' ', ' ', ' ', ' ', ' ', ' ', ' '],\n",
       "       [' ', ' ', ' ', ' ', ' ', ' ', ' ', ' ', ' ', ' '],\n",
       "       [' ', ' ', ' ', ' ', ' ', ' ', ' ', ' ', ' ', ' '],\n",
       "       [' ', ' ', ' ', ' ', ' ', ' ', ' ', ' ', ' ', ' '],\n",
       "       [' ', ' ', ' ', ' ', ' ', ' ', ' ', ' ', ' ', ' '],\n",
       "       [' ', ' ', ' ', ' ', ' ', ' ', ' ', ' ', ' ', ' '],\n",
       "       [' ', ' ', ' ', ' ', ' ', ' ', ' ', ' ', ' ', ' '],\n",
       "       [' ', ' ', ' ', ' ', ' ', ' ', ' ', ' ', ' ', ' '],\n",
       "       [' ', ' ', ' ', ' ', ' ', ' ', ' ', ' ', ' ', ' '],\n",
       "       [' ', ' ', ' ', ' ', ' ', ' ', ' ', ' ', ' ', ' ']], dtype='<U1')"
      ]
     },
     "execution_count": 80,
     "metadata": {},
     "output_type": "execute_result"
    }
   ],
   "source": [
    "tablero_niebla(10)"
   ]
  },
  {
   "cell_type": "code",
   "execution_count": 70,
   "metadata": {},
   "outputs": [],
   "source": [
    "#def bienvenida con presentación, preguntar id_jugador, instrucciones y reglas\n",
    "#🏴‍☠️🚤 BarcoPirataPequeño\n",
    "\n",
    "#def suspense(periodo = 0.7):\n",
    " #   for _ in range(5):\n",
    " #       time.sleep(periodo)\n",
    " #       print('.', end=' ')\n",
    "  #  time.sleep(1)\n",
    "\n",
    "def bienvenida():\n",
    "    global id_jugador\n",
    "    print(f\"{Fore.CYAN}Bienvenido al juego de 'hundir la flota', lo primero es saber como te vas a llamar....{Style.RESET_ALL}\")\n",
    "    id_jugador= input(f\" ¿Como te gustaría que te llamara?\")\n",
    "    time.sleep(1)\n",
    "    print(f\"{Fore.CYAN}Encantado de conocerte: \\U0001F99A{Style.BRIGHT}{Fore.RED}\\033[4m{id_jugador}\\033[0m{Style.RESET_ALL},{Fore.CYAN}soy tu oponente: \\U0001F916{Fore.BLUE}\\033[4mShipBrainy)\\033[0m{Style.RESET_ALL}{Fore.CYAN}, un experimentado estratega, asi que preparate para perder....{Style.RESET_ALL}\" )\n",
    "    time.sleep(4.5)\n",
    "    print(f\"{Fore.CYAN}Ahora te voy a explicar las instruciones del juego:{Style.RESET_ALL}\")\n",
    "    time.sleep(4.5)\n",
    "    print(f\"\"\"\n",
    "    \n",
    "      🏴‍☠️ {Fore.YELLOW}- Jugaras contra la maquina\\n\n",
    "      🏴‍☠️ - En primer lugar deberas colocar tus 10 barcos, con la siguiente distribucion:\\n\n",
    "                🚢 - {Back.MAGENTA}4 barcos de 1 posición de eslora{Style.RESET_ALL}\n",
    "                ⛵ - {Fore.YELLOW}{Back.MAGENTA}3 barcos de 2 posiciones de eslora\"{Style.RESET_ALL}\n",
    "                ⛵ - {Fore.YELLOW}{Back.MAGENTA}2 barcos de 3 posiciones de eslora\"{Style.RESET_ALL}\n",
    "                🚤 - {Fore.YELLOW}{Back.MAGENTA}1 barco de 4 posiciones de eslora\"{Style.RESET_ALL}\\n\n",
    "      🏴‍☠️  {Fore.YELLOW}- Cuando comience el juego, cada uno de los jugadores tendra su tablero con sus barcos pero habra un tercer tablero para que puedas comprobar tus disparos sin han fallado(O). \n",
    "           Si han tocado algun barco del contrincante(X) o si has logrado hundirlo(X).\\n\n",
    "      🏴‍☠️ - EL juego se desarrolla por turnos, donde si alguno durante el mismo acierta(tocado, hundido), volvera a repetir tirada y en caso contrario, se producira un cambio de turno al oponente.\\n\n",
    "      🏴‍☠️ - Para {Style.BRIGHT}\\033[4mdisparar\\033[0m{Style.RESET_ALL}{Fore.YELLOW} tendras que introducir \\033[4muna coordenada X(fila) y otra Y(columna)\\033[0m,{Fore.YELLOW}, con la cual marcaras donde quieres disparar en el tablero del oponente,\n",
    "           y podras ver los tableros con tus barcos y el tablero en blaco con los disparos tuyos.En caso de introducir {Style.BRIGHT}\\033[4mcoodenadas fuera del tablero\\033[0m, {Fore.YELLOW} te saltara un error para que introduzcas coordenadas validas.{Style.RESET_ALL}\\n\n",
    "      🏴‍☠️ {Fore.YELLOW}- El primer jugador que hunda todos los barcos del oponente, habra ganado, finalizando el juego.{Style.RESET_ALL}\"\"\")\n",
    "    time.sleep(10)\n",
    "    print(f\"\\U0001F99A{Style.BRIGHT}{Fore.RED}{id_jugador}{Style.RESET_ALL}, {Fore.CYAN}¿tienes las instrucciones claras(S/N)?{Style.RESET_ALL}\")\n",
    "    comprobar = True\n",
    "    while comprobar:\n",
    "          id_jugador= input(f\"\\U0001F99A{Style.BRIGHT}{Fore.RED}{id_jugador}{Style.RESET_ALL},{Fore.CYAN}¿tienes las instrucciones claras(Y/N)?{Style.RESET_ALL}\")\n",
    "          if id_jugador == \"S\":\n",
    "               print(\"{Fore.CYAN}comienza el ¡¡DESAFIO!!{Style.RESET_ALL\")\n",
    "               comprobar = False\n",
    "               continue  \n",
    "          elif id_jugador ==\"N\":\n",
    "               print(f\"{Fore.CYAN}Eres un poco {Style.BRIGHT}TORPE,{id_jugador}{Style.RESET_ALL}{Fore.CYAN}.....😈😈😈, asi que, leete de nuevo las instrucciones que te he dado😂😂😂😂😂\")\n",
    "               print(f\"{Fore.CYAN}Si estas preparado pulsa Y y si quieres comenzar de nuevo N\")\n",
    "               input(f\"Si estas preparado pulsa Y y si quieres comenzar de nuevo N{Style.RESET_ALL}\")\n",
    "               if id_jugador == \"S\":\n",
    "                    continue\n",
    "               elif id_jugador == \"N\":\n",
    "                    comprobar == False\n",
    "          else:\n",
    "               print(\"{Fore.CYAN}Error: ingresa la letra correcta: Y o N{Style.RESET_ALL}\")\n",
    "    \n",
    "    comprobar = True\n",
    "    while comprobar:\n",
    "          if id_jugador == \"S\":\n",
    "               print(f\"{Fore.CYAN}¿Algo que decirme antes de comenzar?\") \n",
    "               input(\"¿Algo que decirme antes de comenzar?\" )\n",
    "               print(f\"Si,si...lo que tu digas😂..¡¡PREPARATE!!😠😠...{Style.RESET_ALL}\")\n",
    "               print(f\"{Fore.CYAN} Sabes que perderas😂😂😂😂😂, comienza el ¡¡DESAFIO!!{Style.RESET_ALL} \")\n",
    "               comprobar = False\n",
    "          elif id_jugador == \"N\":\n",
    "               \n",
    "              \n",
    "          \n",
    "            return bienvenida"
   ]
  },
  {
   "cell_type": "code",
   "execution_count": 71,
   "metadata": {},
   "outputs": [
    {
     "name": "stdout",
     "output_type": "stream",
     "text": [
      "\u001b[36mBienvenido al juego de 'hundir la flota', lo primero es saber como te vas a llamar....\u001b[0m\n",
      "\u001b[36mEncantado de conocerte: 🦚\u001b[1m\u001b[31m\u001b[4mhsef\u001b[0m\u001b[0m,\u001b[36msoy tu oponente: 🤖\u001b[34m\u001b[4mShipBrainy)\u001b[0m\u001b[0m\u001b[36m, un experimentado estratega, asi que preparate para perder....\u001b[0m\n",
      "\u001b[36mAhora te voy a explicar las instruciones del juego:\u001b[0m\n",
      "\n",
      "    \n",
      "      🏴‍☠️ \u001b[33m- Jugaras contra la maquina\n",
      "\n",
      "      🏴‍☠️ - En primer lugar deberas colocar tus 10 barcos, con la siguiente distribucion:\n",
      "\n",
      "                🚢 - \u001b[45m4 barcos de 1 posición de eslora\u001b[0m\n",
      "                ⛵ - \u001b[33m\u001b[45m3 barcos de 2 posiciones de eslora\"\u001b[0m\n",
      "                ⛵ - \u001b[33m\u001b[45m2 barcos de 3 posiciones de eslora\"\u001b[0m\n",
      "                🚤 - \u001b[33m\u001b[45m1 barco de 4 posiciones de eslora\"\u001b[0m\n",
      "\n",
      "      🏴‍☠️  \u001b[33m- Cuando comience el juego, cada uno de los jugadores tendra su tablero con sus barcos pero habra un tercer tablero para que puedas comprobar tus disparos sin han fallado(O). \n",
      "           Si han tocado algun barco del contrincante(X) o si has logrado hundirlo(X).\n",
      "\n",
      "      🏴‍☠️ - EL juego se desarrolla por turnos, donde si alguno durante el mismo acierta(tocado, hundido), volvera a repetir tirada y en caso contrario, se producira un cambio de turno al oponente.\n",
      "\n",
      "      🏴‍☠️ - Para \u001b[1m\u001b[4mdisparar\u001b[0m\u001b[0m\u001b[33m tendras que introducir \u001b[4muna coordenada X(fila) y otra Y(columna)\u001b[0m,\u001b[33m, con la cual marcaras donde quieres disparar en el tablero del oponente,\n",
      "           y podras ver los tableros con tus barcos y el tablero en blaco con los disparos tuyos.En caso de introducir \u001b[1m\u001b[4mcoodenadas fuera del tablero\u001b[0m, \u001b[33m te saltara un error para que introduzcas coordenadas validas.\u001b[0m\n",
      "\n",
      "      🏴‍☠️ \u001b[33m- El primer jugador que hunda todos los barcos del oponente, habra ganado, finalizando el juego.\u001b[0m\n",
      "🦚\u001b[1m\u001b[31mhsef\u001b[0m, \u001b[36m¿tienes las instrucciones claras(S/N)?\u001b[0m\n",
      "{Fore.CYAN}Error: ingresa la letra correcta: Y o N{Style.RESET_ALL}\n",
      "{Fore.CYAN}Error: ingresa la letra correcta: Y o N{Style.RESET_ALL}\n"
     ]
    },
    {
     "ename": "KeyboardInterrupt",
     "evalue": "Interrupted by user",
     "output_type": "error",
     "traceback": [
      "\u001b[1;31m---------------------------------------------------------------------------\u001b[0m",
      "\u001b[1;31mKeyboardInterrupt\u001b[0m                         Traceback (most recent call last)",
      "\u001b[1;32me:\\Cursos\\BC_Data_Science\\Repositorio\\Team_Challenge Barco_hundido\\Repo_barquito\\victor.ipynb Celda 11\u001b[0m line \u001b[0;36m2\n\u001b[0;32m      <a href='vscode-notebook-cell:/e%3A/Cursos/BC_Data_Science/Repositorio/Team_Challenge%20Barco_hundido/Repo_barquito/victor.ipynb#X12sZmlsZQ%3D%3D?line=0'>1</a>\u001b[0m \u001b[39m#prbamos\u001b[39;00m\n\u001b[1;32m----> <a href='vscode-notebook-cell:/e%3A/Cursos/BC_Data_Science/Repositorio/Team_Challenge%20Barco_hundido/Repo_barquito/victor.ipynb#X12sZmlsZQ%3D%3D?line=1'>2</a>\u001b[0m bienvenida()\n",
      "\u001b[1;32me:\\Cursos\\BC_Data_Science\\Repositorio\\Team_Challenge Barco_hundido\\Repo_barquito\\victor.ipynb Celda 11\u001b[0m line \u001b[0;36m3\n\u001b[0;32m     <a href='vscode-notebook-cell:/e%3A/Cursos/BC_Data_Science/Repositorio/Team_Challenge%20Barco_hundido/Repo_barquito/victor.ipynb#X12sZmlsZQ%3D%3D?line=34'>35</a>\u001b[0m comprobar \u001b[39m=\u001b[39m \u001b[39mTrue\u001b[39;00m\n\u001b[0;32m     <a href='vscode-notebook-cell:/e%3A/Cursos/BC_Data_Science/Repositorio/Team_Challenge%20Barco_hundido/Repo_barquito/victor.ipynb#X12sZmlsZQ%3D%3D?line=35'>36</a>\u001b[0m \u001b[39mwhile\u001b[39;00m comprobar:\n\u001b[1;32m---> <a href='vscode-notebook-cell:/e%3A/Cursos/BC_Data_Science/Repositorio/Team_Challenge%20Barco_hundido/Repo_barquito/victor.ipynb#X12sZmlsZQ%3D%3D?line=36'>37</a>\u001b[0m       id_jugador\u001b[39m=\u001b[39m \u001b[39minput\u001b[39;49m(\u001b[39mf\u001b[39;49m\u001b[39m\"\u001b[39;49m\u001b[39m\\U0001F99A\u001b[39;49;00m\u001b[39m{\u001b[39;49;00mStyle\u001b[39m.\u001b[39;49mBRIGHT\u001b[39m}\u001b[39;49;00m\u001b[39m{\u001b[39;49;00mFore\u001b[39m.\u001b[39;49mRED\u001b[39m}\u001b[39;49;00m\u001b[39m{\u001b[39;49;00mid_jugador\u001b[39m}\u001b[39;49;00m\u001b[39m{\u001b[39;49;00mStyle\u001b[39m.\u001b[39;49mRESET_ALL\u001b[39m}\u001b[39;49;00m\u001b[39m,\u001b[39;49m\u001b[39m{\u001b[39;49;00mFore\u001b[39m.\u001b[39;49mCYAN\u001b[39m}\u001b[39;49;00m\u001b[39m¿tienes las instrucciones claras(Y/N)?\u001b[39;49m\u001b[39m{\u001b[39;49;00mStyle\u001b[39m.\u001b[39;49mRESET_ALL\u001b[39m}\u001b[39;49;00m\u001b[39m\"\u001b[39;49m)\n\u001b[0;32m     <a href='vscode-notebook-cell:/e%3A/Cursos/BC_Data_Science/Repositorio/Team_Challenge%20Barco_hundido/Repo_barquito/victor.ipynb#X12sZmlsZQ%3D%3D?line=37'>38</a>\u001b[0m       \u001b[39mif\u001b[39;00m id_jugador \u001b[39m==\u001b[39m \u001b[39m\"\u001b[39m\u001b[39mS\u001b[39m\u001b[39m\"\u001b[39m:\n\u001b[0;32m     <a href='vscode-notebook-cell:/e%3A/Cursos/BC_Data_Science/Repositorio/Team_Challenge%20Barco_hundido/Repo_barquito/victor.ipynb#X12sZmlsZQ%3D%3D?line=38'>39</a>\u001b[0m            \u001b[39mprint\u001b[39m(\u001b[39m\"\u001b[39m\u001b[39m{Fore.CYAN}\u001b[39;00m\u001b[39mcomienza el ¡¡DESAFIO!!\u001b[39m\u001b[39m{\u001b[39m\u001b[39mStyle.RESET_ALL\u001b[39m\u001b[39m\"\u001b[39m)\n",
      "File \u001b[1;32mc:\\Users\\victo\\AppData\\Local\\Programs\\Python\\Python310\\lib\\site-packages\\ipykernel\\kernelbase.py:1202\u001b[0m, in \u001b[0;36mKernel.raw_input\u001b[1;34m(self, prompt)\u001b[0m\n\u001b[0;32m   1200\u001b[0m     msg \u001b[39m=\u001b[39m \u001b[39m\"\u001b[39m\u001b[39mraw_input was called, but this frontend does not support input requests.\u001b[39m\u001b[39m\"\u001b[39m\n\u001b[0;32m   1201\u001b[0m     \u001b[39mraise\u001b[39;00m StdinNotImplementedError(msg)\n\u001b[1;32m-> 1202\u001b[0m \u001b[39mreturn\u001b[39;00m \u001b[39mself\u001b[39;49m\u001b[39m.\u001b[39;49m_input_request(\n\u001b[0;32m   1203\u001b[0m     \u001b[39mstr\u001b[39;49m(prompt),\n\u001b[0;32m   1204\u001b[0m     \u001b[39mself\u001b[39;49m\u001b[39m.\u001b[39;49m_parent_ident[\u001b[39m\"\u001b[39;49m\u001b[39mshell\u001b[39;49m\u001b[39m\"\u001b[39;49m],\n\u001b[0;32m   1205\u001b[0m     \u001b[39mself\u001b[39;49m\u001b[39m.\u001b[39;49mget_parent(\u001b[39m\"\u001b[39;49m\u001b[39mshell\u001b[39;49m\u001b[39m\"\u001b[39;49m),\n\u001b[0;32m   1206\u001b[0m     password\u001b[39m=\u001b[39;49m\u001b[39mFalse\u001b[39;49;00m,\n\u001b[0;32m   1207\u001b[0m )\n",
      "File \u001b[1;32mc:\\Users\\victo\\AppData\\Local\\Programs\\Python\\Python310\\lib\\site-packages\\ipykernel\\kernelbase.py:1245\u001b[0m, in \u001b[0;36mKernel._input_request\u001b[1;34m(self, prompt, ident, parent, password)\u001b[0m\n\u001b[0;32m   1242\u001b[0m \u001b[39mexcept\u001b[39;00m \u001b[39mKeyboardInterrupt\u001b[39;00m:\n\u001b[0;32m   1243\u001b[0m     \u001b[39m# re-raise KeyboardInterrupt, to truncate traceback\u001b[39;00m\n\u001b[0;32m   1244\u001b[0m     msg \u001b[39m=\u001b[39m \u001b[39m\"\u001b[39m\u001b[39mInterrupted by user\u001b[39m\u001b[39m\"\u001b[39m\n\u001b[1;32m-> 1245\u001b[0m     \u001b[39mraise\u001b[39;00m \u001b[39mKeyboardInterrupt\u001b[39;00m(msg) \u001b[39mfrom\u001b[39;00m \u001b[39mNone\u001b[39;00m\n\u001b[0;32m   1246\u001b[0m \u001b[39mexcept\u001b[39;00m \u001b[39mException\u001b[39;00m:\n\u001b[0;32m   1247\u001b[0m     \u001b[39mself\u001b[39m\u001b[39m.\u001b[39mlog\u001b[39m.\u001b[39mwarning(\u001b[39m\"\u001b[39m\u001b[39mInvalid Message:\u001b[39m\u001b[39m\"\u001b[39m, exc_info\u001b[39m=\u001b[39m\u001b[39mTrue\u001b[39;00m)\n",
      "\u001b[1;31mKeyboardInterrupt\u001b[0m: Interrupted by user"
     ]
    }
   ],
   "source": [
    "#prbamos\n",
    "bienvenida()"
   ]
  },
  {
   "cell_type": "markdown",
   "metadata": {},
   "source": []
  },
  {
   "cell_type": "markdown",
   "metadata": {},
   "source": []
  }
 ],
 "metadata": {
  "kernelspec": {
   "display_name": "Python 3",
   "language": "python",
   "name": "python3"
  },
  "language_info": {
   "codemirror_mode": {
    "name": "ipython",
    "version": 3
   },
   "file_extension": ".py",
   "mimetype": "text/x-python",
   "name": "python",
   "nbconvert_exporter": "python",
   "pygments_lexer": "ipython3",
   "version": "3.10.11"
  }
 },
 "nbformat": 4,
 "nbformat_minor": 2
}
