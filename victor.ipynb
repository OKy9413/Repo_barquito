{
 "cells": [
  {
   "cell_type": "code",
   "execution_count": 3,
   "metadata": {},
   "outputs": [
    {
     "name": "stdout",
     "output_type": "stream",
     "text": [
      "🤖,🐟\n"
     ]
    }
   ],
   "source": [
    "from colorama import Fore, Back, Style\n",
    "import numpy as np\n",
    "import pandas as pd\n",
    "import time\n",
    "\n",
    "print(\"\\U0001F916,\\U0001F41F\")"
   ]
  },
  {
   "cell_type": "markdown",
   "metadata": {},
   "source": [
    "Clase Tablero: <br>\n",
    "self.crear tablero - <br>\n",
    "self._______ -<br>\n",
    "self._______ - <br>\n",
    "def tablero_jugador <br>\n",
    "def tablero_maquina <br>\n",
    "def tablero_niebla <br>\n",
    "<br>\n",
    "def bienvenida: Victor<br>\n",
    "Presentación (preguntar id_jugador)<br>\n",
    "Instrucciones (reglas) Victor<br>\n",
    "def tablero_jugador np.full(10,10…) <br>\n",
    "def tablero_maquina np.full(10,10…) <br>\n",
    "def tablero_niebla np.full(10,10…) \n",
    "\n",
    "\n"
   ]
  },
  {
   "cell_type": "code",
   "execution_count": 2,
   "metadata": {},
   "outputs": [],
   "source": [
    "\n",
    "class Tablero:\n",
    "\n",
    "    def __init__(self, filas, columnas):\n",
    "        self.filas = filas\n",
    "        self.columnas = columnas\n",
    "        self.tablero_jugador = np.full((filas, columnas), \" \")\n",
    "        self.tablero_maquina = np.full((filas, columnas), \" \")\n",
    "        self.tablero_niebla = np.full((filas, columnas), \" \")\n",
    "        \n",
    "    def mostrar_tablero(self):\n",
    "        print(\"Tablero_jugador\")\n",
    "        print(self.tablero_jugador)\n",
    "        print(\"Tablero_maquina\")\n",
    "        print(self.tablero_maquina)\n",
    "        print(\"Tablero_niebla\")\n",
    "        print(self.tablero_niebla)\n",
    "\n",
    "\n",
    "   \n",
    "\n",
    "    \n",
    " \n",
    "\n"
   ]
  },
  {
   "cell_type": "code",
   "execution_count": 3,
   "metadata": {},
   "outputs": [
    {
     "name": "stdout",
     "output_type": "stream",
     "text": [
      "Tablero_jugador\n",
      "[[' ' ' ' ' ' ' ' ' ' ' ' ' ' ' ' ' ' ' ']\n",
      " [' ' ' ' ' ' ' ' ' ' ' ' ' ' ' ' ' ' ' ']\n",
      " [' ' ' ' ' ' ' ' ' ' ' ' ' ' ' ' ' ' ' ']\n",
      " [' ' ' ' ' ' ' ' ' ' ' ' ' ' ' ' ' ' ' ']\n",
      " [' ' ' ' ' ' ' ' ' ' ' ' ' ' ' ' ' ' ' ']\n",
      " [' ' ' ' ' ' ' ' ' ' ' ' ' ' ' ' ' ' ' ']\n",
      " [' ' ' ' ' ' ' ' ' ' ' ' ' ' ' ' ' ' ' ']\n",
      " [' ' ' ' ' ' ' ' ' ' ' ' ' ' ' ' ' ' ' ']\n",
      " [' ' ' ' ' ' ' ' ' ' ' ' ' ' ' ' ' ' ' ']\n",
      " [' ' ' ' ' ' ' ' ' ' ' ' ' ' ' ' ' ' ' ']]\n",
      "Tablero_maquina\n",
      "[[' ' ' ' ' ' ' ' ' ' ' ' ' ' ' ' ' ' ' ']\n",
      " [' ' ' ' ' ' ' ' ' ' ' ' ' ' ' ' ' ' ' ']\n",
      " [' ' ' ' ' ' ' ' ' ' ' ' ' ' ' ' ' ' ' ']\n",
      " [' ' ' ' ' ' ' ' ' ' ' ' ' ' ' ' ' ' ' ']\n",
      " [' ' ' ' ' ' ' ' ' ' ' ' ' ' ' ' ' ' ' ']\n",
      " [' ' ' ' ' ' ' ' ' ' ' ' ' ' ' ' ' ' ' ']\n",
      " [' ' ' ' ' ' ' ' ' ' ' ' ' ' ' ' ' ' ' ']\n",
      " [' ' ' ' ' ' ' ' ' ' ' ' ' ' ' ' ' ' ' ']\n",
      " [' ' ' ' ' ' ' ' ' ' ' ' ' ' ' ' ' ' ' ']\n",
      " [' ' ' ' ' ' ' ' ' ' ' ' ' ' ' ' ' ' ' ']]\n",
      "Tablero_niebla\n",
      "[[' ' ' ' ' ' ' ' ' ' ' ' ' ' ' ' ' ' ' ']\n",
      " [' ' ' ' ' ' ' ' ' ' ' ' ' ' ' ' ' ' ' ']\n",
      " [' ' ' ' ' ' ' ' ' ' ' ' ' ' ' ' ' ' ' ']\n",
      " [' ' ' ' ' ' ' ' ' ' ' ' ' ' ' ' ' ' ' ']\n",
      " [' ' ' ' ' ' ' ' ' ' ' ' ' ' ' ' ' ' ' ']\n",
      " [' ' ' ' ' ' ' ' ' ' ' ' ' ' ' ' ' ' ' ']\n",
      " [' ' ' ' ' ' ' ' ' ' ' ' ' ' ' ' ' ' ' ']\n",
      " [' ' ' ' ' ' ' ' ' ' ' ' ' ' ' ' ' ' ' ']\n",
      " [' ' ' ' ' ' ' ' ' ' ' ' ' ' ' ' ' ' ' ']\n",
      " [' ' ' ' ' ' ' ' ' ' ' ' ' ' ' ' ' ' ' ']]\n"
     ]
    }
   ],
   "source": [
    "tablero = Tablero(10,10)\n",
    "tablero.mostrar_tablero()"
   ]
  },
  {
   "cell_type": "code",
   "execution_count": 5,
   "metadata": {},
   "outputs": [],
   "source": [
    "\n",
    "\n",
    "dimension = 10\n",
    "\n",
    "def tablero_jugador(dimension):\n",
    "    # imptimir tablero\n",
    "    tablero = np.full((dimension, dimension), \" \")\n",
    "    return tablero\n",
    "\n",
    "def tablero_maquina(dimension):\n",
    "    # imptimir tablero\n",
    "    tablero = np.full((dimension,dimension), \" \")\n",
    "    return tablero\n",
    "\n",
    "def tablero_niebla(dimension):\n",
    "    #imprimir tablero\n",
    "    tablero = np.full((dimension, dimension), \" \")\n",
    "    return tablero\n",
    "\n"
   ]
  },
  {
   "cell_type": "code",
   "execution_count": null,
   "metadata": {},
   "outputs": [],
   "source": [
    "#bienvenida con presentación, preguntar id_jugador, instrucciones y reglas\n",
    "#🏴‍☠️🚤 BarcoPirataPequeño\n",
    "\n",
    "#def suspense(periodo = 0.7):\n",
    " #   for _ in range(5):\n",
    " #       time.sleep(periodo)\n",
    " #       print('.', end=' ')\n",
    "  #  time.sleep(1)"
   ]
  },
  {
   "cell_type": "code",
   "execution_count": 6,
   "metadata": {},
   "outputs": [
    {
     "data": {
      "text/plain": [
       "array([[' ', ' ', ' ', ' ', ' ', ' ', ' ', ' ', ' ', ' '],\n",
       "       [' ', ' ', ' ', ' ', ' ', ' ', ' ', ' ', ' ', ' '],\n",
       "       [' ', ' ', ' ', ' ', ' ', ' ', ' ', ' ', ' ', ' '],\n",
       "       [' ', ' ', ' ', ' ', ' ', ' ', ' ', ' ', ' ', ' '],\n",
       "       [' ', ' ', ' ', ' ', ' ', ' ', ' ', ' ', ' ', ' '],\n",
       "       [' ', ' ', ' ', ' ', ' ', ' ', ' ', ' ', ' ', ' '],\n",
       "       [' ', ' ', ' ', ' ', ' ', ' ', ' ', ' ', ' ', ' '],\n",
       "       [' ', ' ', ' ', ' ', ' ', ' ', ' ', ' ', ' ', ' '],\n",
       "       [' ', ' ', ' ', ' ', ' ', ' ', ' ', ' ', ' ', ' '],\n",
       "       [' ', ' ', ' ', ' ', ' ', ' ', ' ', ' ', ' ', ' ']], dtype='<U1')"
      ]
     },
     "execution_count": 6,
     "metadata": {},
     "output_type": "execute_result"
    }
   ],
   "source": [
    "#probamos funciones\n",
    "tablero_jugador(10)"
   ]
  },
  {
   "cell_type": "code",
   "execution_count": 7,
   "metadata": {},
   "outputs": [
    {
     "data": {
      "text/plain": [
       "array([[' ', ' ', ' ', ' ', ' ', ' ', ' ', ' ', ' ', ' '],\n",
       "       [' ', ' ', ' ', ' ', ' ', ' ', ' ', ' ', ' ', ' '],\n",
       "       [' ', ' ', ' ', ' ', ' ', ' ', ' ', ' ', ' ', ' '],\n",
       "       [' ', ' ', ' ', ' ', ' ', ' ', ' ', ' ', ' ', ' '],\n",
       "       [' ', ' ', ' ', ' ', ' ', ' ', ' ', ' ', ' ', ' '],\n",
       "       [' ', ' ', ' ', ' ', ' ', ' ', ' ', ' ', ' ', ' '],\n",
       "       [' ', ' ', ' ', ' ', ' ', ' ', ' ', ' ', ' ', ' '],\n",
       "       [' ', ' ', ' ', ' ', ' ', ' ', ' ', ' ', ' ', ' '],\n",
       "       [' ', ' ', ' ', ' ', ' ', ' ', ' ', ' ', ' ', ' '],\n",
       "       [' ', ' ', ' ', ' ', ' ', ' ', ' ', ' ', ' ', ' ']], dtype='<U1')"
      ]
     },
     "execution_count": 7,
     "metadata": {},
     "output_type": "execute_result"
    }
   ],
   "source": [
    "tablero_maquina(10)"
   ]
  },
  {
   "cell_type": "code",
   "execution_count": 8,
   "metadata": {},
   "outputs": [
    {
     "data": {
      "text/plain": [
       "array([[' ', ' ', ' ', ' ', ' ', ' ', ' ', ' ', ' ', ' '],\n",
       "       [' ', ' ', ' ', ' ', ' ', ' ', ' ', ' ', ' ', ' '],\n",
       "       [' ', ' ', ' ', ' ', ' ', ' ', ' ', ' ', ' ', ' '],\n",
       "       [' ', ' ', ' ', ' ', ' ', ' ', ' ', ' ', ' ', ' '],\n",
       "       [' ', ' ', ' ', ' ', ' ', ' ', ' ', ' ', ' ', ' '],\n",
       "       [' ', ' ', ' ', ' ', ' ', ' ', ' ', ' ', ' ', ' '],\n",
       "       [' ', ' ', ' ', ' ', ' ', ' ', ' ', ' ', ' ', ' '],\n",
       "       [' ', ' ', ' ', ' ', ' ', ' ', ' ', ' ', ' ', ' '],\n",
       "       [' ', ' ', ' ', ' ', ' ', ' ', ' ', ' ', ' ', ' '],\n",
       "       [' ', ' ', ' ', ' ', ' ', ' ', ' ', ' ', ' ', ' ']], dtype='<U1')"
      ]
     },
     "execution_count": 8,
     "metadata": {},
     "output_type": "execute_result"
    }
   ],
   "source": [
    "tablero_niebla(10)"
   ]
  },
  {
   "cell_type": "code",
   "execution_count": 5,
   "metadata": {},
   "outputs": [
    {
     "ename": "SyntaxError",
     "evalue": "invalid syntax (3428638169.py, line 5)",
     "output_type": "error",
     "traceback": [
      "\u001b[1;36m  Cell \u001b[1;32mIn[5], line 5\u001b[1;36m\u001b[0m\n\u001b[1;33m    import ../ variables as var\u001b[0m\n\u001b[1;37m           ^\u001b[0m\n\u001b[1;31mSyntaxError\u001b[0m\u001b[1;31m:\u001b[0m invalid syntax\n"
     ]
    }
   ],
   "source": [
    "from colorama import Fore, Back, Style\n",
    "import numpy as np\n",
    "import pandas as pd\n",
    "import time\n",
    "import variables as var"
   ]
  },
  {
   "cell_type": "code",
   "execution_count": 3,
   "metadata": {},
   "outputs": [
    {
     "ename": "SyntaxError",
     "evalue": "invalid syntax (668021832.py, line 2)",
     "output_type": "error",
     "traceback": [
      "\u001b[1;36m  Cell \u001b[1;32mIn[3], line 2\u001b[1;36m\u001b[0m\n\u001b[1;33m    global var.id_jugador\u001b[0m\n\u001b[1;37m              ^\u001b[0m\n\u001b[1;31mSyntaxError\u001b[0m\u001b[1;31m:\u001b[0m invalid syntax\n"
     ]
    }
   ],
   "source": [
    "def bienvenida():\n",
    "    global var.id_jugador\n",
    "    print(f\"{Fore.CYAN}Bienvenid@ al juego de 'Hundir la Flota'{Style.RESET_ALL}\")\n",
    "    var.id_jugador = input(f\"¿Cómo te gustaría que te llamara?\")\n",
    "    time.sleep(1)\n",
    "    print(f\"{Fore.CYAN}Encantado de conocerte: \\U0001F99A{Style.BRIGHT}{Fore.WHITE}{Back.BLACK}\\033[4m{var.id_jugador}\\033[0m{Style.RESET_ALL}, {Fore.CYAN}soy tu oponente: \\U0001F916{Fore.WHITE}{Back.BLACK}\\033[4mShipBrainy\\033[0m{Style.RESET_ALL}{Fore.CYAN}, un experimentado estratega, asi que prepárate para perder...{Style.RESET_ALL}\" )\n",
    "    time.sleep(3)\n",
    "    print(f\"{Fore.CYAN}Estas son las instrucciones del juego:{Style.RESET_ALL}\")\n",
    "    time.sleep(2)\n",
    "    print(f\"\"\"\n",
    "    \n",
    "      🏴‍☠️   {Fore.RED}{Fore.YELLOW}- Jugarás contra la máquina\\n\n",
    "      🏴‍☠️ - En primer lugar, deberás colocar tus 10 barcos, con la siguiente distribución:\\n\n",
    "                🚢 - {Fore.GREEN}{Back.MAGENTA}4 barcos de 1 posición de eslora{Style.RESET_ALL}\n",
    "                ⛵ - {Fore.GREEN}{Back.MAGENTA}3 barcos de 2 posiciones de eslora{Style.RESET_ALL}\n",
    "                ⛵ - {Fore.GREEN}{Back.MAGENTA}2 barcos de 3 posiciones de eslora{Style.RESET_ALL}\n",
    "                🚤 - {Fore.GREEN}{Back.MAGENTA}1 barco de 4 posiciones de eslora{Style.RESET_ALL}\\n\n",
    "      🏴‍☠️  {Fore.RED}{Fore.YELLOW}- Cuando comience el juego, tendrás un tablero para observar los disparos del contrincante, así como uno para comprobar tu jugada.\\n\n",
    "      🏴‍☠️ - El juego se desarrolla por turnos, donde si algún jugador acierta durante el mismo, volverá a repetir turno y en caso contrario, se producirá un cambio de turno al oponente.\\n\n",
    "      🏴‍☠️ - Para {Style.BRIGHT}\\033[4mdisparar\\033[0m{Style.RESET_ALL}{Fore.RED}{Fore.YELLOW} tendrás que introducir \\033[4muna coordenada X(fila) y otra Y(columna)\\033[0m{Fore.RED}{Fore.YELLOW}, con la cual marcarás dónde quieres disparar en el tablero del oponente,\n",
    "           y podrás ver los tableros nuevamente. En caso de introducir {Style.BRIGHT}\\033[4mcoordenadas fuera del tablero\\033[0m {Fore.RED}{Fore.YELLOW}, te saltará un error para que introduzcas coordenadas válidas.{Style.RESET_ALL}\\n\n",
    "      🏴‍☠️ {Fore.RED}{Fore.YELLOW}- El primer jugador que hunda todos los barcos del oponente, habrá ganado, finalizando el juego.{Style.RESET_ALL}\"\"\")\n",
    "    time.sleep(10)\n",
    "    print(f\"\\U0001F99A{Style.BRIGHT}{Fore.CYAN}{var.id_jugador}{Style.RESET_ALL}, {Fore.CYAN}¿Tienes las instrucciones claras(S/N)?{Style.RESET_ALL}\")\n",
    "\n",
    "    while True:\n",
    "          respuesta = input(f\"\\U0001F99A{Style.BRIGHT}{Fore.WHITE}{Back.BLACK}\\033[4m{var.id_jugador}\\033[0m{Style.RESET_ALL},{Fore.CYAN}¿Tienes las instrucciones claras(S/N)?\")\n",
    "          if respuesta == \"S\": \n",
    "               print(f\"{Fore.CYAN}Comienza el ¡¡DESAFÍO!!{Style.RESET_ALL}\")\n",
    "               break  \n",
    "          elif respuesta ==\"N\":\n",
    "               print(f\"{Fore.CYAN}Eres un poco {Style.BRIGHT}TORPE{Style.RESET_ALL}{Fore.CYAN}...😈😈😈, asi que, léete de nuevo las instrucciones que te he dado 😂\")\n",
    "               print(f\"{Fore.CYAN}Si estás preparad@ pulsa: S, y si quieres comenzar de nuevo: N.\")\n",
    "               continue\n",
    "          else:\n",
    "               print(f\"{Fore.CYAN}Error: ingresa la letra correcta: S o N{Style.RESET_ALL}\")\n",
    "               continue\n",
    "    \n",
    "    print(f\"{Fore.CYAN}¿Algo que decirme antes de comenzar?\") \n",
    "    input(f\"{Fore.CYAN}¿Algo que decirme antes de comenzar?\")\n",
    "    print(f\"{Fore.CYAN}Si,si...lo que tu digas😂..¡¡PREPÁRATE!!😠😠...{Style.RESET_ALL}\")\n",
    "    time.sleep(2)\n",
    "    print(f\"{Fore.CYAN}Sabes que perderás😂😂😂😂😂, comienza el ¡¡DESAFÍO!!{Style.RESET_ALL} \")"
   ]
  },
  {
   "cell_type": "code",
   "execution_count": 1,
   "metadata": {},
   "outputs": [],
   "source": [
    "\n",
    "\n",
    "\n",
    "\n",
    "def bienvenida():\n",
    "    global id_jugador\n",
    "    print(f\"{Fore.CYAN}Bienvenido al juego de 'hundir la flota'{Style.RESET_ALL}\")\n",
    "    id_jugador= input(f\" ¿Como te gustaría que te llamara?\")\n",
    "    time.sleep(1)\n",
    "    print(f\"{Fore.CYAN}Encantado de conocerte: \\U0001F99A{Style.BRIGHT}{Fore.WHITE}{Back.BLACK}\\033[4m{id_jugador}\\033[0m{Style.RESET_ALL}, {Fore.CYAN}soy tu oponente: \\U0001F916{Fore.WHITE}{Back.BLACK}\\033[4mShipBrainy\\033[0m{Style.RESET_ALL}{Fore.CYAN}, un experimentado estratega, asi que preparate para perder....{Style.RESET_ALL}\" )\n",
    "    time.sleep(4.5)\n",
    "    print(f\"{Fore.CYAN}Ahora te voy a explicar las instruciones del juego:{Style.RESET_ALL}\")\n",
    "    time.sleep(4.5)\n",
    "    print(f\"\"\"\n",
    "    \n",
    "      🏴‍☠️   {Fore.RED}{Fore.YELLOW}- Jugaras contra la maquina\\n\n",
    "      🏴‍☠️ - En primer lugar deberas colocar tus 10 barcos, con la siguiente distribucion:\\n\n",
    "                🚢 - {Fore.GREEN}{Back.MAGENTA}4 barcos de 1 posición de eslora{Style.RESET_ALL}\n",
    "                ⛵ - {Fore.GREEN}{Back.MAGENTA}3 barcos de 2 posiciones de eslora{Style.RESET_ALL}\n",
    "                ⛵ - {Fore.GREEN}{Back.MAGENTA}2 barcos de 3 posiciones de eslora{Style.RESET_ALL}\n",
    "                🚤 - {Fore.GREEN}{Back.MAGENTA}1 barco de 4 posiciones de eslora{Style.RESET_ALL}\\n\n",
    "      🏴‍☠️  {Fore.RED}{Fore.YELLOW}- Cuando comience el juego, tendrás un tablero propio para observar los disparos del contrincante, así como uno para comprobar tu jugada.\\n\n",
    "      🏴‍☠️ - El juego se desarrolla por turnos, donde si alguno durante el mismo acierta, volverá a repetir tirada y en caso contrario, se producira un cambio de turno al oponente.\\n\n",
    "      🏴‍☠️ - Para {Style.BRIGHT}\\033[4mdisparar\\033[0m{Style.RESET_ALL}{Fore.RED}{Fore.YELLOW} tendras que introducir \\033[4muna coordenada X(fila) y otra Y(columna)\\033[0m{Fore.RED}{Fore.YELLOW}, con la cual marcaras donde quieres disparar en el tablero del oponente,\n",
    "           y podras ver los tableros nuevamente.En caso de introducir {Style.BRIGHT}\\033[4mcoodenadas fuera del tablero\\033[0m {Fore.RED}{Fore.YELLOW}, te saltara un error para que introduzcas coordenadas validas.{Style.RESET_ALL}\\n\n",
    "      🏴‍☠️ {Fore.RED}{Fore.YELLOW}- El primer jugador que hunda todos los barcos del oponente, habra ganado, finalizando el juego.{Style.RESET_ALL}\"\"\")\n",
    "    time.sleep(10)\n",
    "    print(f\"\\U0001F99A{Style.BRIGHT}{Fore.CYAN}{id_jugador}{Style.RESET_ALL}, {Fore.CYAN}¿tienes las instrucciones claras(S/N)?{Style.RESET_ALL}\")\n",
    "    comprobar = True\n",
    "    while comprobar:\n",
    "          id_jugador= input(f\"\\U0001F99A{Style.BRIGHT}{Fore.WHITE}{Back.BLACK}\\033[4m{id_jugador}\\033[0m{Style.RESET_ALL},{Fore.CYAN}¿tienes las instrucciones claras(Y/N)?\")\n",
    "          if id_jugador == \"S\": \n",
    "               print(f\"{Fore.CYAN}comienza el ¡¡DESAFIO!!{Style.RESET_ALL}\")\n",
    "               comprobar = False\n",
    "               continue  \n",
    "          elif id_jugador ==\"N\":\n",
    "               print(f\"{Fore.CYAN}Eres un poco {Style.BRIGHT}TORPE{Style.RESET_ALL}{Fore.CYAN}....😈😈😈, asi que, leeté de nuevo las instrucciones que te he dado😂😂😂😂😂\")\n",
    "               print(f\"{Fore.CYAN}Si estas preparado pulsa S y si quieres comenzar de nuevo N\")\n",
    "               input(f\"Si estas preparado pulsa S y si quieres comenzar de nuevo N.{Style.RESET_ALL}\")\n",
    "               if id_jugador == \"S\":\n",
    "                    continue\n",
    "               elif id_jugador == \"N\":\n",
    "                    comprobar == False\n",
    "          else:\n",
    "               print(f\"{Fore.CYAN}Error: ingresa la letra correcta: S o N{Style.RESET_ALL}\")\n",
    "    \n",
    "     if id_jugador == \"S\":\n",
    "          print(f\"{Fore.CYAN}¿Algo que decirme antes de comenzar?\") \n",
    "          input(f\"{Fore.CYAN}¿Algo que decirme antes de comenzar?\")\n",
    "          print(f\"{Fore.CYAN}Si,si...lo que tu digas😂..¡¡PREPARATE!!😠😠...{Style.RESET_ALL}\")\n",
    "          print(f\"{Fore.CYAN}Sabes que perderás😂😂😂😂😂, comienza el ¡¡DESAFIO!!{Style.RESET_ALL} \")\n",
    "          comprobar = False\n",
    "                  \n",
    "              \n",
    "          \n",
    "            return bienvenida"
   ]
  },
  {
   "cell_type": "code",
   "execution_count": 2,
   "metadata": {},
   "outputs": [
    {
     "name": "stdout",
     "output_type": "stream",
     "text": [
      "\u001b[36mBienvenido al juego de 'hundir la flota'\u001b[0m\n",
      "\u001b[36mEncantado de conocerte: 🦚\u001b[1m\u001b[37m\u001b[40m\u001b[4mLKJF-S\u001b[0m\u001b[0m, \u001b[36msoy tu oponente: 🤖\u001b[37m\u001b[40m\u001b[4mShipBrainy\u001b[0m\u001b[0m\u001b[36m, un experimentado estratega, asi que preparate para perder....\u001b[0m\n",
      "\u001b[36mAhora te voy a explicar las instruciones del juego:\u001b[0m\n",
      "\n",
      "    \n",
      "      🏴‍☠️   \u001b[31m\u001b[33m- Jugaras contra la maquina\n",
      "\n",
      "      🏴‍☠️ - En primer lugar deberas colocar tus 10 barcos, con la siguiente distribucion:\n",
      "\n",
      "                🚢 - \u001b[32m\u001b[45m4 barcos de 1 posición de eslora\u001b[0m\n",
      "                ⛵ - \u001b[32m\u001b[45m3 barcos de 2 posiciones de eslora\u001b[0m\n",
      "                ⛵ - \u001b[32m\u001b[45m2 barcos de 3 posiciones de eslora\u001b[0m\n",
      "                🚤 - \u001b[32m\u001b[45m1 barco de 4 posiciones de eslora\u001b[0m\n",
      "\n",
      "      🏴‍☠️  \u001b[31m\u001b[33m- Cuando comience el juego, tendrás un tablero propio para observar los disparos del contrincante, así como uno para comprobar tu jugada.\n",
      "\n",
      "      🏴‍☠️ - El juego se desarrolla por turnos, donde si alguno durante el mismo acierta, volverá a repetir tirada y en caso contrario, se producira un cambio de turno al oponente.\n",
      "\n",
      "      🏴‍☠️ - Para \u001b[1m\u001b[4mdisparar\u001b[0m\u001b[0m\u001b[31m\u001b[33m tendras que introducir \u001b[4muna coordenada X(fila) y otra Y(columna)\u001b[0m\u001b[31m\u001b[33m, con la cual marcaras donde quieres disparar en el tablero del oponente,\n",
      "           y podras ver los tableros nuevamente.En caso de introducir \u001b[1m\u001b[4mcoodenadas fuera del tablero\u001b[0m \u001b[31m\u001b[33m, te saltara un error para que introduzcas coordenadas validas.\u001b[0m\n",
      "\n",
      "      🏴‍☠️ \u001b[31m\u001b[33m- El primer jugador que hunda todos los barcos del oponente, habra ganado, finalizando el juego.\u001b[0m\n",
      "🦚\u001b[1m\u001b[36mLKJF-S\u001b[0m, \u001b[36m¿tienes las instrucciones claras(S/N)?\u001b[0m\n",
      "\u001b[36mEres un poco \u001b[1mTORPE\u001b[0m\u001b[36m....😈😈😈, asi que, leeté de nuevo las instrucciones que te he dado😂😂😂😂😂\n",
      "\u001b[36mSi estas preparado pulsa S y si quieres comenzar de nuevo N\n",
      "\u001b[36mcomienza el ¡¡DESAFIO!!\u001b[0m\n",
      "\u001b[36m¿Algo que decirme antes de comenzar?\n",
      "\u001b[36mSi,si...lo que tu digas😂..¡¡PREPARATE!!😠😠...\u001b[0m\n",
      "\u001b[36mSabes que perderás😂😂😂😂😂, comienza el ¡¡DESAFIO!!\u001b[0m \n"
     ]
    }
   ],
   "source": [
    "#prbamos\n",
    "bienvenida()"
   ]
  },
  {
   "cell_type": "markdown",
   "metadata": {},
   "source": []
  },
  {
   "cell_type": "markdown",
   "metadata": {},
   "source": [
    "TRY -EXCEPT FUNCIONAN, SOLO ADMITE NUEMROS DEL 1 AL 10 PERO LE HE PUESTO  UNA EXCEPCION CON EXIT PERO DICE QUE NO ENCUENTRA BREAK_POINT( REVISA ESTO JUANCA)"
   ]
  },
  {
   "cell_type": "code",
   "execution_count": null,
   "metadata": {},
   "outputs": [],
   "source": [
    "def disparo_jugador():\n",
    "    ej = True\n",
    "    contador = 0\n",
    "    global break_point\n",
    "    while ej:\n",
    "        time.sleep(3)\n",
    "        if contador != 0:                           # El primer if comprueba si ya ha tirado en este turno o no, y muestra mensajes y tableros en función de eso.\n",
    "            print('¡Te toca de nuevo! \\n')\n",
    "            mostrar_tableros()\n",
    "        else:\n",
    "            print('¡Es tu turno!')\n",
    "            time.sleep(1.5)\n",
    "            comprobar =True\n",
    "            while comprobar:\n",
    "                try:\n",
    "                    disparo_jugador_x = int(input('Introduce la coordenada X de tu disparo: '))    # Pedimos el input de la primera coordenada\n",
    "                    disparo_jugador_y = int(input('Introduce la coordenada Y de tu disparo: '))# Pedimos la segunda coordenada             \n",
    "                    if (disparo_jugador_x >=0 and disparo_jugador_x <= 9) and  (disparo_jugador_y >=0 and disparo_jugador_y <= 9): \n",
    "                        print(f\"¡pum!..¡pum!\")\n",
    "                        comprobar = False\n",
    "                    else:  \n",
    "                        print(\"error!!: Las coordenadas deben estar entre 1 y 10 y no usar caracteres alfabeticos.Inténtalo de nuevo.\") \n",
    "                      \n",
    "                except ValueError as exit:\n",
    "                    if exit:\n",
    "                        break_point += 1\n",
    "                        break                             # Aquí hay una puerta trasera, para poder salir del juego escribimos \"exit\"           \n",
    "        time.sleep(1)\n",
    "        print(f\"Disparo efectuado a las coordenadas ({disparo_jugador_x}, {disparo_jugador_y}).\\n\")\n",
    "        suspense()\n",
    "        if tablero_maquina[disparo_jugador_x, disparo_jugador_y] == c_barco:                # En este conjunto de if comprobamos qué hay en las coordnadas, actualizamos los tableros y damos la infor por pantalla.\n",
    "            print('¡Impacto!¡Barco alcanzado!\\n')\n",
    "            tablero_niebla[disparo_jugador_x, disparo_jugador_y] = c_tocado\n",
    "            tablero_maquina[disparo_jugador_x, disparo_jugador_y] = c_tocado\n",
    "            if condicion_victoria() == True:                                                # Comprobamos si con este tiro ha ganado.\n",
    "                break\n",
    "            contador += 1\n",
    "        elif tablero_maquina[disparo_jugador_x, disparo_jugador_y] == c_agua:\n",
    "            print('Agua...\\n')\n",
    "            tablero_niebla[disparo_jugador_x, disparo_jugador_y] = c_agua_tiro\n",
    "            ej = False\n",
    "        elif tablero_maquina[disparo_jugador_x, disparo_jugador_y] == c_tocado:\n",
    "            print('Ya habías disparado ahí.\\n')\n",
    "            ej = False\n",
    "        elif tablero_maquina[disparo_jugador_x, disparo_jugador_y] == c_agua_tiro:\n",
    "            print('Agua, y ya habías disparado ahí.\\n')\n",
    "            ej = False"
   ]
  },
  {
   "cell_type": "markdown",
   "metadata": {},
   "source": []
  }
 ],
 "metadata": {
  "kernelspec": {
   "display_name": "Python 3",
   "language": "python",
   "name": "python3"
  },
  "language_info": {
   "codemirror_mode": {
    "name": "ipython",
    "version": 3
   },
   "file_extension": ".py",
   "mimetype": "text/x-python",
   "name": "python",
   "nbconvert_exporter": "python",
   "pygments_lexer": "ipython3",
   "version": "3.11.4"
  }
 },
 "nbformat": 4,
 "nbformat_minor": 2
}
