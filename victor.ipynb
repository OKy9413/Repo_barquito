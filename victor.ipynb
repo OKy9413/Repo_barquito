{
 "cells": [
  {
   "cell_type": "markdown",
   "metadata": {},
   "source": [
    "Clase Tablero: <br>\n",
    "self.crear tablero - <br>\n",
    "self._______ -<br>\n",
    "self._______ - <br>\n",
    "def tablero_jugador <br>\n",
    "def tablero_maquina <br>\n",
    "def tablero_niebla <br>\n",
    "<br>\n",
    "def bienvenida: Victor<br>\n",
    "Presentación (preguntar id_jugador)<br>\n",
    "Instrucciones (reglas) Victor<br>\n",
    "def tablero_jugador np.full(10,10…) <br>\n",
    "def tablero_maquina np.full(10,10…) <br>\n",
    "def tablero_niebla np.full(10,10…) \n",
    "\n",
    "\n"
   ]
  },
  {
   "cell_type": "code",
   "execution_count": 1,
   "metadata": {},
   "outputs": [],
   "source": [
    "class Tablero:\n",
    "\n",
    "\n",
    "    \"\"\"def __init__(self, self.tablero_jugador, self.tablero_maquina, self.tablero_niebla,self.______,self.______,self.______,self.______,self.______):\n",
    "        self.tablero_jugador = tablero_jugador\n",
    "        self.tablero_maquina = tablero_maquina\n",
    "        self.tablero_niebla = tablero_niebla\n",
    "        self.______ = ______\n",
    "        self.______ = ______\n",
    "        self.______ = ______\n",
    "        self.______ = ______\"\"\"\n",
    "\n",
    "    \n",
    "    pass\n",
    "\n"
   ]
  },
  {
   "cell_type": "code",
   "execution_count": 4,
   "metadata": {},
   "outputs": [],
   "source": [
    "import numpy as np\n",
    "from colorama import init,Fore, Back, Style\n",
    "\n",
    "dimension = 100\n",
    "def tablero_jugador(dimension):\n",
    "    # imptimir tablero\n",
    "    tablero_j = np.full((dimension), \" \")\n",
    "    return tablero_j\n",
    "\n",
    "\n",
    "def tablero_maquina(dimension):\n",
    "    # imptimir tablero\n",
    "    tablero_m = np.full((dimension), \" \")\n",
    "    return tablero_m\n",
    "\n",
    "def tablero_niebla(dimension):\n",
    "    #imprimir tablero\n",
    "    tablero_n = np.full((dimension), \" \")\n",
    "    return tablero_n\n",
    "\n"
   ]
  },
  {
   "cell_type": "code",
   "execution_count": 5,
   "metadata": {},
   "outputs": [
    {
     "data": {
      "text/plain": [
       "array([' ', ' ', ' ', ' ', ' ', ' ', ' ', ' ', ' ', ' ', ' ', ' ', ' ',\n",
       "       ' ', ' ', ' ', ' ', ' ', ' ', ' ', ' ', ' ', ' ', ' ', ' ', ' ',\n",
       "       ' ', ' ', ' ', ' ', ' ', ' ', ' ', ' ', ' ', ' ', ' ', ' ', ' ',\n",
       "       ' ', ' ', ' ', ' ', ' ', ' ', ' ', ' ', ' ', ' ', ' ', ' ', ' ',\n",
       "       ' ', ' ', ' ', ' ', ' ', ' ', ' ', ' ', ' ', ' ', ' ', ' ', ' ',\n",
       "       ' ', ' ', ' ', ' ', ' ', ' ', ' ', ' ', ' ', ' ', ' ', ' ', ' ',\n",
       "       ' ', ' ', ' ', ' ', ' ', ' ', ' ', ' ', ' ', ' ', ' ', ' ', ' ',\n",
       "       ' ', ' ', ' ', ' ', ' ', ' ', ' ', ' ', ' '], dtype='<U1')"
      ]
     },
     "execution_count": 5,
     "metadata": {},
     "output_type": "execute_result"
    }
   ],
   "source": [
    "#probamos funciones\n",
    "tablero_jugador(100)"
   ]
  },
  {
   "cell_type": "code",
   "execution_count": 6,
   "metadata": {},
   "outputs": [
    {
     "data": {
      "text/plain": [
       "array([' ', ' ', ' ', ' ', ' ', ' ', ' ', ' ', ' ', ' ', ' ', ' ', ' ',\n",
       "       ' ', ' ', ' ', ' ', ' ', ' ', ' ', ' ', ' ', ' ', ' ', ' ', ' ',\n",
       "       ' ', ' ', ' ', ' ', ' ', ' ', ' ', ' ', ' ', ' ', ' ', ' ', ' ',\n",
       "       ' ', ' ', ' ', ' ', ' ', ' ', ' ', ' ', ' ', ' ', ' ', ' ', ' ',\n",
       "       ' ', ' ', ' ', ' ', ' ', ' ', ' ', ' ', ' ', ' ', ' ', ' ', ' ',\n",
       "       ' ', ' ', ' ', ' ', ' ', ' ', ' ', ' ', ' ', ' ', ' ', ' ', ' ',\n",
       "       ' ', ' ', ' ', ' ', ' ', ' ', ' ', ' ', ' ', ' ', ' ', ' ', ' ',\n",
       "       ' ', ' ', ' ', ' ', ' ', ' ', ' ', ' ', ' '], dtype='<U1')"
      ]
     },
     "execution_count": 6,
     "metadata": {},
     "output_type": "execute_result"
    }
   ],
   "source": [
    "tablero_maquina(100)"
   ]
  },
  {
   "cell_type": "code",
   "execution_count": 7,
   "metadata": {},
   "outputs": [
    {
     "data": {
      "text/plain": [
       "array([' ', ' ', ' ', ' ', ' ', ' ', ' ', ' ', ' ', ' ', ' ', ' ', ' ',\n",
       "       ' ', ' ', ' ', ' ', ' ', ' ', ' ', ' ', ' ', ' ', ' ', ' ', ' ',\n",
       "       ' ', ' ', ' ', ' ', ' ', ' ', ' ', ' ', ' ', ' ', ' ', ' ', ' ',\n",
       "       ' ', ' ', ' ', ' ', ' ', ' ', ' ', ' ', ' ', ' ', ' ', ' ', ' ',\n",
       "       ' ', ' ', ' ', ' ', ' ', ' ', ' ', ' ', ' ', ' ', ' ', ' ', ' ',\n",
       "       ' ', ' ', ' ', ' ', ' ', ' ', ' ', ' ', ' ', ' ', ' ', ' ', ' ',\n",
       "       ' ', ' ', ' ', ' ', ' ', ' ', ' ', ' ', ' ', ' ', ' ', ' ', ' ',\n",
       "       ' ', ' ', ' ', ' ', ' ', ' ', ' ', ' ', ' '], dtype='<U1')"
      ]
     },
     "execution_count": 7,
     "metadata": {},
     "output_type": "execute_result"
    }
   ],
   "source": [
    "tablero_niebla(100)"
   ]
  },
  {
   "cell_type": "code",
   "execution_count": 13,
   "metadata": {},
   "outputs": [],
   "source": [
    "#def bienvenida con presentación, preguntar id_jugador, instrucciones y reglas\n",
    "#🏴‍☠️🚤 BarcoPirataPequeño\n",
    "\n",
    "def bienvenida():\n",
    "    print(f\"{Fore.CYAN}Bienvenido al juego de 'hundir la flota', lo primero es saber como te vas a llamar{Style.RESET_ALL}\")\n",
    "    id_jugador= input(f\" ¿Como te gustaría que te llamara?\")\n",
    "    print(f\"Encantado de conocerte {Style.BRIGHT}{Fore.RED}\\033[4m{id_jugador}\\033[0m{Style.RESET_ALL}👨‍✈️,{Fore.CYAN}soy tu oponente {Fore.BLUE}\\033[4mShipBrainy)\\033[0m🎮{Style.RESET_ALL}{Fore.CYAN}, un experimentado estratega, asi que preparate para perder....{Style.RESET_ALL}\" )\n",
    "    print(f\"\"\"{Fore.CYAN}Ahora te voy a explicar las instruciones del juego:{Style.RESET_ALL}\n",
    "      🏴‍☠️ {Fore.YELLOW}- Jugaras contra la maquina\n",
    "      🏴‍☠️ - En primer lugar deberas colocar tus 10 barcos, con la siguiente distribucion:\n",
    "                🚢 - {Back.MAGENTA}4 barcos de 1 posición de eslora{Style.RESET_ALL}\n",
    "                ⛵ - {Fore.YELLOW}{Back.MAGENTA}3 barcos de 2 posiciones de eslora\"{Style.RESET_ALL}\n",
    "                ⛵ - {Fore.YELLOW}{Back.MAGENTA}2 barcos de 3 posiciones de eslora\"{Style.RESET_ALL}\n",
    "                🚤 - {Fore.YELLOW}{Back.MAGENTA}1 barco de 4 posiciones de eslora\"{Style.RESET_ALL}\n",
    "      🏴‍☠️  {Fore.YELLOW}- Cuando comience el juego, cada uno de los jugadores tendra su tablero con sus barcos pero habra un tercer tablero para que puedas comprobar tus disparos sin han fallado(O). \n",
    "           Si han tocado algun barco del contrincante(X) o si has logrado hundirlo(X).\n",
    "      🏴‍☠️ - EL juego se desarrolla por turnos, donde si alguno durante el mismo acierta(tocado, hundido), volvera a repetir tirada y en caso contrario, se producira un cambio de turno al oponente.\n",
    "      🏴‍☠️ - Para {Style.BRIGHT}\\033[4mdisparar\\033[0m{Style.RESET_ALL}{Fore.YELLOW} tendras que introducir una coordenada X(fila) y otra Y(columna), \n",
    "           {Style.BRIGHT}de la forma siguente:\\033[4m(x, y)\\033[0m{Style.RESET_ALL}{Fore.YELLOW}, con la cual marcaras donde quieres disparar en el tablero del oponente, \n",
    "           y podras ver los tableros con tus barcos y el tablero en blaco con los disparos tuyos. \n",
    "           En caso de introducir {Style.BRIGHT}\\033[4mcoodenadas fuera del tablero\\033[0m, {Fore.YELLOW} te saltara un error para que introduzcas coordenadas validas.{Style.RESET_ALL}\n",
    "      🏴‍☠️ {Fore.YELLOW}- El primer jugador que hunda todos los barcos del oponente, habra ganado, finalizando el juego.{Style.RESET_ALL}\"\"\")\n",
    "    print(f\"{Style.BRIGHT}{Fore.RED}{id_jugador}{Style.RESET_ALL}👨‍✈️, {Fore.CYAN}¿tienes las instrucciones claras(Y/N)?{Style.RESET_ALL}\")\n",
    "    comprobar = True\n",
    "    while comprobar:\n",
    "          id_jugador= input(f\"{Style.BRIGHT}{Fore.RED}{id_jugador}{Style.RESET_ALL}👨‍✈️,{Fore.CYAN}¿tienes las instrucciones claras(Y/N)?{Style.RESET_ALL}\")\n",
    "          if id_jugador == \"Y\":\n",
    "               print(\"{Fore.CYAN}comienza el ¡¡DESAFIO!!{Style.RESET_ALL\")\n",
    "               comprobar = False\n",
    "               continue  \n",
    "          elif id_jugador ==\"N\":\n",
    "               print(f\"{Fore.CYAN}Eres un poco {Style.BRIGHT}TORPE,{id_jugador}{Style.RESET_ALL}{Fore.CYAN}.....😈😈😈, asi que, leete de nuevo las instrucciones que te he dado😂😂😂😂😂\")\n",
    "               print(f\"{Fore.CYAN}Si estas preparado pulsa Y y si quieres comenzar de nuevo N\")\n",
    "               input(f\"Si estas preparado pulsa Y y si quieres comenzar de nuevo N{Style.RESET_ALL}\")\n",
    "               if id_jugador == \"Y\":\n",
    "                    continue\n",
    "               elif id_jugador == \"N\":\n",
    "                    comprobar == False\n",
    "          else:\n",
    "               print(\"{Fore.CYAN}Error: ingresa la letra correcta: Y o N{Style.RESET_ALL}\")\n",
    "    \n",
    "    comprobar = True\n",
    "    while comprobar:\n",
    "          if id_jugador == \"Y\":\n",
    "               print(f\"{Fore.CYAN}¿Algo que decirme antes de comenzar?\") \n",
    "               input(\"¿Algo que decirme antes de comenzar?\" )\n",
    "               print(f\"Si,si...lo que tu digas😂..¡¡PREPARATE!!😠😠...{Style.RESET_ALL}\")\n",
    "               print(f\"{Fore.CYAN} Sabes que perderas😂😂😂😂😂, comienza el ¡¡DESAFIO!!{Style.RESET_ALL} \")\n",
    "               comprobar = False\n",
    "          elif id_jugador == \"N\":\n",
    "               \n",
    "              \n",
    "          \n",
    "            return bienvenida"
   ]
  },
  {
   "cell_type": "code",
   "execution_count": 14,
   "metadata": {},
   "outputs": [
    {
     "name": "stdout",
     "output_type": "stream",
     "text": [
      "\u001b[36mBienvenido al juego de 'hundir la flota', lo primero es saber como te vas a llamar\u001b[0m\n",
      "Encantado de conocerte \u001b[1m\u001b[31m\u001b[4mlshf\u001b[0m\u001b[0m👨‍✈️,\u001b[36msoy tu oponente \u001b[34m\u001b[4mShipBrainy)\u001b[0m🎮\u001b[0m\u001b[36m, un experimentado estratega, asi que preparate para perder....\u001b[0m\n",
      "\u001b[36mAhora te voy a explicar las instruciones del juego:\u001b[0m\n",
      "      🏴‍☠️ \u001b[33m- Jugaras contra la maquina\n",
      "      🏴‍☠️ - En primer lugar deberas colocar tus 10 barcos, con la siguiente distribucion:\n",
      "                🚢 - \u001b[45m4 barcos de 1 posición de eslora\u001b[0m\n",
      "                ⛵ - \u001b[33m\u001b[45m3 barcos de 2 posiciones de eslora\"\u001b[0m\n",
      "                ⛵ - \u001b[33m\u001b[45m2 barcos de 3 posiciones de eslora\"\u001b[0m\n",
      "                🚤 - \u001b[33m\u001b[45m1 barco de 4 posiciones de eslora\"\u001b[0m\n",
      "      🏴‍☠️  \u001b[33m- Cuando comience el juego, cada uno de los jugadores tendra su tablero con sus barcos pero habra un tercer tablero para que puedas comprobar tus disparos sin han fallado(O). \n",
      "           Si han tocado algun barco del contrincante(X) o si has logrado hundirlo(X).\n",
      "      🏴‍☠️ - EL juego se desarrolla por turnos, donde si alguno durante el mismo acierta(tocado, hundido), volvera a repetir tirada y en caso contrario, se producira un cambio de turno al oponente.\n",
      "      🏴‍☠️ - Para \u001b[1m\u001b[4mdisparar\u001b[0m\u001b[0m\u001b[33m tendras que introducir una coordenada X(fila) y otra Y(columna), \n",
      "           \u001b[1mde la forma siguente:\u001b[4m(x, y)\u001b[0m\u001b[0m\u001b[33m, con la cual marcaras donde quieres disparar en el tablero del oponente, \n",
      "           y podras ver los tableros con tus barcos y el tablero en blaco con los disparos tuyos. \n",
      "           En caso de introducir \u001b[1m\u001b[4mcoodenadas fuera del tablero\u001b[0m, \u001b[33m te saltara un error para que introduzcas coordenadas validas.\u001b[0m\n",
      "      🏴‍☠️ \u001b[33m- El primer jugador que hunda todos los barcos del oponente, habra ganado, finalizando el juego.\u001b[0m\n",
      "\u001b[1m\u001b[31mlshf\u001b[0m👨‍✈️, \u001b[36m¿tienes las instrucciones claras(Y/N)?\u001b[0m\n",
      "\u001b[36mEres un poco \u001b[1mTORPE,N\u001b[0m\u001b[36m.....😈😈😈, asi que, leete de nuevo las instrucciones que te he dado😂😂😂😂😂\n",
      "\u001b[36mSi estas preparado pulsa Y y si quieres comenzar de nuevo N\n",
      "\u001b[36mEres un poco \u001b[1mTORPE,N\u001b[0m\u001b[36m.....😈😈😈, asi que, leete de nuevo las instrucciones que te he dado😂😂😂😂😂\n",
      "\u001b[36mSi estas preparado pulsa Y y si quieres comenzar de nuevo N\n",
      "\u001b[36mEres un poco \u001b[1mTORPE,N\u001b[0m\u001b[36m.....😈😈😈, asi que, leete de nuevo las instrucciones que te he dado😂😂😂😂😂\n",
      "\u001b[36mSi estas preparado pulsa Y y si quieres comenzar de nuevo N\n",
      "{Fore.CYAN}comienza el ¡¡DESAFIO!!{Style.RESET_ALL\n",
      "\u001b[36m¿Algo que decirme antes de comenzar?\n",
      "Si,si...lo que tu digas😂..¡¡PREPARATE!!😠😠...\u001b[0m\n",
      "\u001b[36m Sabes que perderas😂😂😂😂😂, comienza el ¡¡DESAFIO!!\u001b[0m \n"
     ]
    }
   ],
   "source": [
    "#prbamos\n",
    "bienvenida()"
   ]
  },
  {
   "cell_type": "markdown",
   "metadata": {},
   "source": []
  },
  {
   "cell_type": "markdown",
   "metadata": {},
   "source": []
  }
 ],
 "metadata": {
  "kernelspec": {
   "display_name": "Python 3",
   "language": "python",
   "name": "python3"
  },
  "language_info": {
   "codemirror_mode": {
    "name": "ipython",
    "version": 3
   },
   "file_extension": ".py",
   "mimetype": "text/x-python",
   "name": "python",
   "nbconvert_exporter": "python",
   "pygments_lexer": "ipython3",
   "version": "3.10.11"
  }
 },
 "nbformat": 4,
 "nbformat_minor": 2
}
